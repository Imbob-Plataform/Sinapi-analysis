{
 "cells": [
  {
   "cell_type": "markdown",
   "id": "cbda2ed2",
   "metadata": {},
   "source": [
    "#### Iniciando processo de tratamento de dados. É preciso tratar os dados para posteriormente fazer uma análise exploratória."
   ]
  },
  {
   "cell_type": "code",
   "execution_count": 815,
   "id": "560a7619",
   "metadata": {},
   "outputs": [
    {
     "name": "stdout",
     "output_type": "stream",
     "text": [
      "<class 'pandas.core.frame.DataFrame'>\n",
      "Index: 16848 entries, 1 to 16848\n",
      "Data columns (total 15 columns):\n",
      " #   Column                         Non-Null Count  Dtype \n",
      "---  ------                         --------------  ----- \n",
      " 0   Nível Territorial (Código)     16848 non-null  int64 \n",
      " 1   Nível Territorial              16848 non-null  object\n",
      " 2   Unidade de Medida (Código)     16848 non-null  int64 \n",
      " 3   Unidade de Medida              16848 non-null  object\n",
      " 4   Valor                          16848 non-null  object\n",
      " 5   Unidade da Federação (Código)  16848 non-null  int64 \n",
      " 6   Unidade da Federação           16848 non-null  object\n",
      " 7   Variável (Código)              16848 non-null  int64 \n",
      " 8   Variável                       16848 non-null  object\n",
      " 9   Mês (Código)                   16848 non-null  int64 \n",
      " 10  Mês                            16848 non-null  object\n",
      " 11  Tipo de projeto (Código)       16848 non-null  int64 \n",
      " 12  Tipo de projeto                16848 non-null  object\n",
      " 13  Padrão de acabamento (Código)  16848 non-null  int64 \n",
      " 14  Padrão de acabamento           16848 non-null  object\n",
      "dtypes: int64(7), object(8)\n",
      "memory usage: 2.1+ MB\n"
     ]
    }
   ],
   "source": [
    "import pandas as pd\n",
    "import matplotlib.pyplot as plt\n",
    "import seaborn as sns\n",
    "\n",
    "dataframe = pd.read_csv(r'../data/raw/sinapi.csv', header=1, index_col='0')\n",
    "pd.options.display.max_columns = 14\n",
    "pd.options.display.max_rows = 20\n",
    "pd.options.display.max_colwidth = 80\n",
    "dataframe.info()\n",
    "df = dataframe.copy()"
   ]
  },
  {
   "cell_type": "code",
   "execution_count": 816,
   "id": "228bad16",
   "metadata": {},
   "outputs": [
    {
     "data": {
      "text/plain": [
       "(16848, 15)"
      ]
     },
     "execution_count": 816,
     "metadata": {},
     "output_type": "execute_result"
    }
   ],
   "source": [
    "df.shape"
   ]
  },
  {
   "cell_type": "markdown",
   "id": "892da472",
   "metadata": {},
   "source": [
    "##### 📈 Existem **16.848 registros** e **15 colunas**\n"
   ]
  },
  {
   "cell_type": "code",
   "execution_count": 817,
   "id": "a1be7c0b",
   "metadata": {},
   "outputs": [
    {
     "data": {
      "application/vnd.microsoft.datawrangler.viewer.v0+json": {
       "columns": [
        {
         "name": "index",
         "rawType": "object",
         "type": "string"
        },
        {
         "name": "0",
         "rawType": "object",
         "type": "unknown"
        }
       ],
       "ref": "8e5b3966-c99d-4ec9-811e-c60217c00840",
       "rows": [
        [
         "Nível Territorial (Código)",
         "int64"
        ],
        [
         "Nível Territorial",
         "object"
        ],
        [
         "Unidade de Medida (Código)",
         "int64"
        ],
        [
         "Unidade de Medida",
         "object"
        ],
        [
         "Valor",
         "object"
        ],
        [
         "Unidade da Federação (Código)",
         "int64"
        ],
        [
         "Unidade da Federação",
         "object"
        ],
        [
         "Variável (Código)",
         "int64"
        ],
        [
         "Variável",
         "object"
        ],
        [
         "Mês (Código)",
         "int64"
        ],
        [
         "Mês",
         "object"
        ],
        [
         "Tipo de projeto (Código)",
         "int64"
        ],
        [
         "Tipo de projeto",
         "object"
        ],
        [
         "Padrão de acabamento (Código)",
         "int64"
        ],
        [
         "Padrão de acabamento",
         "object"
        ]
       ],
       "shape": {
        "columns": 1,
        "rows": 15
       }
      },
      "text/plain": [
       "Nível Territorial (Código)        int64\n",
       "Nível Territorial                object\n",
       "Unidade de Medida (Código)        int64\n",
       "Unidade de Medida                object\n",
       "Valor                            object\n",
       "Unidade da Federação (Código)     int64\n",
       "Unidade da Federação             object\n",
       "Variável (Código)                 int64\n",
       "Variável                         object\n",
       "Mês (Código)                      int64\n",
       "Mês                              object\n",
       "Tipo de projeto (Código)          int64\n",
       "Tipo de projeto                  object\n",
       "Padrão de acabamento (Código)     int64\n",
       "Padrão de acabamento             object\n",
       "dtype: object"
      ]
     },
     "execution_count": 817,
     "metadata": {},
     "output_type": "execute_result"
    }
   ],
   "source": [
    "df.dtypes\n"
   ]
  },
  {
   "cell_type": "markdown",
   "id": "68ee8a95",
   "metadata": {},
   "source": [
    "#### Renomeando colunas"
   ]
  },
  {
   "cell_type": "code",
   "execution_count": 818,
   "id": "7454a5c3",
   "metadata": {},
   "outputs": [],
   "source": [
    "df.index.name = 'index'"
   ]
  },
  {
   "cell_type": "code",
   "execution_count": 819,
   "id": "5485c957",
   "metadata": {},
   "outputs": [
    {
     "data": {
      "text/plain": [
       "Index(['Nível Territorial (Código)', 'Nível Territorial',\n",
       "       'Unidade de Medida (Código)', 'Unidade de Medida', 'Valor',\n",
       "       'Unidade da Federação (Código)', 'Unidade da Federação',\n",
       "       'Variável (Código)', 'Variável', 'Mês (Código)', 'Mês',\n",
       "       'Tipo de projeto (Código)', 'Tipo de projeto',\n",
       "       'Padrão de acabamento (Código)', 'Padrão de acabamento'],\n",
       "      dtype='object')"
      ]
     },
     "execution_count": 819,
     "metadata": {},
     "output_type": "execute_result"
    }
   ],
   "source": [
    "df.columns"
   ]
  },
  {
   "cell_type": "code",
   "execution_count": 820,
   "id": "272243fa",
   "metadata": {},
   "outputs": [
    {
     "data": {
      "application/vnd.microsoft.datawrangler.viewer.v0+json": {
       "columns": [
        {
         "name": "index",
         "rawType": "int64",
         "type": "integer"
        },
        {
         "name": "nivel_territorial_codigo",
         "rawType": "int64",
         "type": "integer"
        },
        {
         "name": "nivel_territorial",
         "rawType": "object",
         "type": "string"
        },
        {
         "name": "unidade_de_medida_codigo",
         "rawType": "int64",
         "type": "integer"
        },
        {
         "name": "unidade_de_medida",
         "rawType": "object",
         "type": "string"
        },
        {
         "name": "valor",
         "rawType": "object",
         "type": "string"
        },
        {
         "name": "unidade_da_federacao_codigo",
         "rawType": "int64",
         "type": "integer"
        },
        {
         "name": "unidade_da_federacao",
         "rawType": "object",
         "type": "string"
        },
        {
         "name": "variavel_codigo",
         "rawType": "int64",
         "type": "integer"
        },
        {
         "name": "variavel",
         "rawType": "object",
         "type": "string"
        },
        {
         "name": "periodo",
         "rawType": "int64",
         "type": "integer"
        },
        {
         "name": "mes",
         "rawType": "object",
         "type": "string"
        },
        {
         "name": "tipo_de_porjeto_codigo",
         "rawType": "int64",
         "type": "integer"
        },
        {
         "name": "tipo_de_projeto",
         "rawType": "object",
         "type": "string"
        },
        {
         "name": "padrao_de_acabamento_codigo",
         "rawType": "int64",
         "type": "integer"
        },
        {
         "name": "padrao_de_acabamento",
         "rawType": "object",
         "type": "string"
        }
       ],
       "ref": "6b12e191-666a-4996-9dcc-7126578d5d78",
       "rows": [
        [
         "1",
         "3",
         "Unidade da Federação",
         "38",
         "Reais",
         "-",
         "11",
         "Rondônia",
         "51",
         "Custo de projeto m²",
         "202501",
         "janeiro 2025",
         "7087",
         "CP.1-2Q.....46 Casa popular, 1 pavimento, varanda, sala, 2 quartos, circulação, banheiro e cozinha",
         "786",
         "Alto"
        ],
        [
         "2",
         "3",
         "Unidade da Federação",
         "38",
         "Reais",
         "2009.92",
         "11",
         "Rondônia",
         "51",
         "Custo de projeto m²",
         "202501",
         "janeiro 2025",
         "7087",
         "CP.1-2Q.....46 Casa popular, 1 pavimento, varanda, sala, 2 quartos, circulação, banheiro e cozinha",
         "787",
         "Normal"
        ],
        [
         "3",
         "3",
         "Unidade da Federação",
         "38",
         "Reais",
         "1413.30",
         "11",
         "Rondônia",
         "51",
         "Custo de projeto m²",
         "202501",
         "janeiro 2025",
         "7087",
         "CP.1-2Q.....46 Casa popular, 1 pavimento, varanda, sala, 2 quartos, circulação, banheiro e cozinha",
         "788",
         "Baixo"
        ],
        [
         "4",
         "3",
         "Unidade da Federação",
         "38",
         "Reais",
         "1215.72",
         "11",
         "Rondônia",
         "51",
         "Custo de projeto m²",
         "202501",
         "janeiro 2025",
         "7087",
         "CP.1-2Q.....46 Casa popular, 1 pavimento, varanda, sala, 2 quartos, circulação, banheiro e cozinha",
         "789",
         "Mínimo"
        ],
        [
         "5",
         "3",
         "Unidade da Federação",
         "38",
         "Reais",
         "-",
         "11",
         "Rondônia",
         "51",
         "Custo de projeto m²",
         "202501",
         "janeiro 2025",
         "7088",
         "CP.1-2Q.....40 Casa popular, 1 pavimento, sala, 2 quartos, circulação, banheiro e cozinha",
         "786",
         "Alto"
        ],
        [
         "6",
         "3",
         "Unidade da Federação",
         "38",
         "Reais",
         "2254.80",
         "11",
         "Rondônia",
         "51",
         "Custo de projeto m²",
         "202501",
         "janeiro 2025",
         "7088",
         "CP.1-2Q.....40 Casa popular, 1 pavimento, sala, 2 quartos, circulação, banheiro e cozinha",
         "787",
         "Normal"
        ],
        [
         "7",
         "3",
         "Unidade da Federação",
         "38",
         "Reais",
         "1581.98",
         "11",
         "Rondônia",
         "51",
         "Custo de projeto m²",
         "202501",
         "janeiro 2025",
         "7088",
         "CP.1-2Q.....40 Casa popular, 1 pavimento, sala, 2 quartos, circulação, banheiro e cozinha",
         "788",
         "Baixo"
        ],
        [
         "8",
         "3",
         "Unidade da Federação",
         "38",
         "Reais",
         "1362.58",
         "11",
         "Rondônia",
         "51",
         "Custo de projeto m²",
         "202501",
         "janeiro 2025",
         "7088",
         "CP.1-2Q.....40 Casa popular, 1 pavimento, sala, 2 quartos, circulação, banheiro e cozinha",
         "789",
         "Mínimo"
        ],
        [
         "9",
         "3",
         "Unidade da Federação",
         "38",
         "Reais",
         "-",
         "11",
         "Rondônia",
         "51",
         "Custo de projeto m²",
         "202501",
         "janeiro 2025",
         "7089",
         "CR.1-2Q.....62 Casa residencial, 1 pavimento, varanda, sala,2 quartos, circulação, banheiro, cozinha, área de serviço, quarto e WC de empregada",
         "786",
         "Alto"
        ],
        [
         "10",
         "3",
         "Unidade da Federação",
         "38",
         "Reais",
         "2236.13",
         "11",
         "Rondônia",
         "51",
         "Custo de projeto m²",
         "202501",
         "janeiro 2025",
         "7089",
         "CR.1-2Q.....62 Casa residencial, 1 pavimento, varanda, sala,2 quartos, circulação, banheiro, cozinha, área de serviço, quarto e WC de empregada",
         "787",
         "Normal"
        ],
        [
         "11",
         "3",
         "Unidade da Federação",
         "38",
         "Reais",
         "1615.48",
         "11",
         "Rondônia",
         "51",
         "Custo de projeto m²",
         "202501",
         "janeiro 2025",
         "7089",
         "CR.1-2Q.....62 Casa residencial, 1 pavimento, varanda, sala,2 quartos, circulação, banheiro, cozinha, área de serviço, quarto e WC de empregada",
         "788",
         "Baixo"
        ],
        [
         "12",
         "3",
         "Unidade da Federação",
         "38",
         "Reais",
         "1412.19",
         "11",
         "Rondônia",
         "51",
         "Custo de projeto m²",
         "202501",
         "janeiro 2025",
         "7089",
         "CR.1-2Q.....62 Casa residencial, 1 pavimento, varanda, sala,2 quartos, circulação, banheiro, cozinha, área de serviço, quarto e WC de empregada",
         "789",
         "Mínimo"
        ],
        [
         "13",
         "3",
         "Unidade da Federação",
         "38",
         "Reais",
         "2398.70",
         "11",
         "Rondônia",
         "51",
         "Custo de projeto m²",
         "202501",
         "janeiro 2025",
         "7090",
         "CR.1-3Q....104 Casa residencial, 1 pavimento, varanda, sala,3 quartos, circulação, banheiro, lavabo, cozinha, área de serviço, quarto e WC de empregada",
         "786",
         "Alto"
        ],
        [
         "14",
         "3",
         "Unidade da Federação",
         "38",
         "Reais",
         "1911.39",
         "11",
         "Rondônia",
         "51",
         "Custo de projeto m²",
         "202501",
         "janeiro 2025",
         "7090",
         "CR.1-3Q....104 Casa residencial, 1 pavimento, varanda, sala,3 quartos, circulação, banheiro, lavabo, cozinha, área de serviço, quarto e WC de empregada",
         "787",
         "Normal"
        ],
        [
         "15",
         "3",
         "Unidade da Federação",
         "38",
         "Reais",
         "1338.29",
         "11",
         "Rondônia",
         "51",
         "Custo de projeto m²",
         "202501",
         "janeiro 2025",
         "7090",
         "CR.1-3Q....104 Casa residencial, 1 pavimento, varanda, sala,3 quartos, circulação, banheiro, lavabo, cozinha, área de serviço, quarto e WC de empregada",
         "788",
         "Baixo"
        ],
        [
         "16",
         "3",
         "Unidade da Federação",
         "38",
         "Reais",
         "-",
         "11",
         "Rondônia",
         "51",
         "Custo de projeto m²",
         "202501",
         "janeiro 2025",
         "7090",
         "CR.1-3Q....104 Casa residencial, 1 pavimento, varanda, sala,3 quartos, circulação, banheiro, lavabo, cozinha, área de serviço, quarto e WC de empregada",
         "789",
         "Mínimo"
        ],
        [
         "17",
         "3",
         "Unidade da Federação",
         "38",
         "Reais",
         "2281.19",
         "11",
         "Rondônia",
         "51",
         "Custo de projeto m²",
         "202501",
         "janeiro 2025",
         "7091",
         "CR.1-4Q....122 Casa residencial, 1 pavimento, varanda, sala,4 quartos, circulação, 2 banheiros, cozinha, área de serviço, quarto e WC de empregada",
         "786",
         "Alto"
        ],
        [
         "18",
         "3",
         "Unidade da Federação",
         "38",
         "Reais",
         "1821.15",
         "11",
         "Rondônia",
         "51",
         "Custo de projeto m²",
         "202501",
         "janeiro 2025",
         "7091",
         "CR.1-4Q....122 Casa residencial, 1 pavimento, varanda, sala,4 quartos, circulação, 2 banheiros, cozinha, área de serviço, quarto e WC de empregada",
         "787",
         "Normal"
        ],
        [
         "19",
         "3",
         "Unidade da Federação",
         "38",
         "Reais",
         "1259.13",
         "11",
         "Rondônia",
         "51",
         "Custo de projeto m²",
         "202501",
         "janeiro 2025",
         "7091",
         "CR.1-4Q....122 Casa residencial, 1 pavimento, varanda, sala,4 quartos, circulação, 2 banheiros, cozinha, área de serviço, quarto e WC de empregada",
         "788",
         "Baixo"
        ],
        [
         "20",
         "3",
         "Unidade da Federação",
         "38",
         "Reais",
         "-",
         "11",
         "Rondônia",
         "51",
         "Custo de projeto m²",
         "202501",
         "janeiro 2025",
         "7091",
         "CR.1-4Q....122 Casa residencial, 1 pavimento, varanda, sala,4 quartos, circulação, 2 banheiros, cozinha, área de serviço, quarto e WC de empregada",
         "789",
         "Mínimo"
        ],
        [
         "21",
         "3",
         "Unidade da Federação",
         "38",
         "Reais",
         "-",
         "11",
         "Rondônia",
         "51",
         "Custo de projeto m²",
         "202501",
         "janeiro 2025",
         "7092",
         "EA.1-US.....04 Especificação tipo \"A\", 1 pavimento, somente unidade sanitária",
         "786",
         "Alto"
        ],
        [
         "22",
         "3",
         "Unidade da Federação",
         "38",
         "Reais",
         "-",
         "11",
         "Rondônia",
         "51",
         "Custo de projeto m²",
         "202501",
         "janeiro 2025",
         "7092",
         "EA.1-US.....04 Especificação tipo \"A\", 1 pavimento, somente unidade sanitária",
         "787",
         "Normal"
        ],
        [
         "23",
         "3",
         "Unidade da Federação",
         "38",
         "Reais",
         "-",
         "11",
         "Rondônia",
         "51",
         "Custo de projeto m²",
         "202501",
         "janeiro 2025",
         "7092",
         "EA.1-US.....04 Especificação tipo \"A\", 1 pavimento, somente unidade sanitária",
         "788",
         "Baixo"
        ],
        [
         "24",
         "3",
         "Unidade da Federação",
         "38",
         "Reais",
         "2653.91",
         "11",
         "Rondônia",
         "51",
         "Custo de projeto m²",
         "202501",
         "janeiro 2025",
         "7092",
         "EA.1-US.....04 Especificação tipo \"A\", 1 pavimento, somente unidade sanitária",
         "789",
         "Mínimo"
        ],
        [
         "25",
         "3",
         "Unidade da Federação",
         "38",
         "Reais",
         "-",
         "11",
         "Rondônia",
         "51",
         "Custo de projeto m²",
         "202501",
         "janeiro 2025",
         "7093",
         "EB.1-US.....03 Especificação tipo \"B\", 1 pavimento, somente unidade sanitária",
         "786",
         "Alto"
        ],
        [
         "26",
         "3",
         "Unidade da Federação",
         "38",
         "Reais",
         "-",
         "11",
         "Rondônia",
         "51",
         "Custo de projeto m²",
         "202501",
         "janeiro 2025",
         "7093",
         "EB.1-US.....03 Especificação tipo \"B\", 1 pavimento, somente unidade sanitária",
         "787",
         "Normal"
        ],
        [
         "27",
         "3",
         "Unidade da Federação",
         "38",
         "Reais",
         "-",
         "11",
         "Rondônia",
         "51",
         "Custo de projeto m²",
         "202501",
         "janeiro 2025",
         "7093",
         "EB.1-US.....03 Especificação tipo \"B\", 1 pavimento, somente unidade sanitária",
         "788",
         "Baixo"
        ],
        [
         "28",
         "3",
         "Unidade da Federação",
         "38",
         "Reais",
         "3312.55",
         "11",
         "Rondônia",
         "51",
         "Custo de projeto m²",
         "202501",
         "janeiro 2025",
         "7093",
         "EB.1-US.....03 Especificação tipo \"B\", 1 pavimento, somente unidade sanitária",
         "789",
         "Mínimo"
        ],
        [
         "29",
         "3",
         "Unidade da Federação",
         "38",
         "Reais",
         "-",
         "11",
         "Rondônia",
         "51",
         "Custo de projeto m²",
         "202501",
         "janeiro 2025",
         "7094",
         "EA.1-0Q.....22 Especificação tipo \"A\", 1 pavimento, sala, cozinha e banheiro",
         "786",
         "Alto"
        ],
        [
         "30",
         "3",
         "Unidade da Federação",
         "38",
         "Reais",
         "-",
         "11",
         "Rondônia",
         "51",
         "Custo de projeto m²",
         "202501",
         "janeiro 2025",
         "7094",
         "EA.1-0Q.....22 Especificação tipo \"A\", 1 pavimento, sala, cozinha e banheiro",
         "787",
         "Normal"
        ],
        [
         "31",
         "3",
         "Unidade da Federação",
         "38",
         "Reais",
         "1991.83",
         "11",
         "Rondônia",
         "51",
         "Custo de projeto m²",
         "202501",
         "janeiro 2025",
         "7094",
         "EA.1-0Q.....22 Especificação tipo \"A\", 1 pavimento, sala, cozinha e banheiro",
         "788",
         "Baixo"
        ],
        [
         "32",
         "3",
         "Unidade da Federação",
         "38",
         "Reais",
         "1775.78",
         "11",
         "Rondônia",
         "51",
         "Custo de projeto m²",
         "202501",
         "janeiro 2025",
         "7094",
         "EA.1-0Q.....22 Especificação tipo \"A\", 1 pavimento, sala, cozinha e banheiro",
         "789",
         "Mínimo"
        ],
        [
         "33",
         "3",
         "Unidade da Federação",
         "38",
         "Reais",
         "-",
         "11",
         "Rondônia",
         "51",
         "Custo de projeto m²",
         "202501",
         "janeiro 2025",
         "7095",
         "EB.1-0Q.....22 Especificação tipo \"B\", 1 pavimento, sala, cozinha e banheiro",
         "786",
         "Alto"
        ],
        [
         "34",
         "3",
         "Unidade da Federação",
         "38",
         "Reais",
         "-",
         "11",
         "Rondônia",
         "51",
         "Custo de projeto m²",
         "202501",
         "janeiro 2025",
         "7095",
         "EB.1-0Q.....22 Especificação tipo \"B\", 1 pavimento, sala, cozinha e banheiro",
         "787",
         "Normal"
        ],
        [
         "35",
         "3",
         "Unidade da Federação",
         "38",
         "Reais",
         "1975.55",
         "11",
         "Rondônia",
         "51",
         "Custo de projeto m²",
         "202501",
         "janeiro 2025",
         "7095",
         "EB.1-0Q.....22 Especificação tipo \"B\", 1 pavimento, sala, cozinha e banheiro",
         "788",
         "Baixo"
        ],
        [
         "36",
         "3",
         "Unidade da Federação",
         "38",
         "Reais",
         "1757.27",
         "11",
         "Rondônia",
         "51",
         "Custo de projeto m²",
         "202501",
         "janeiro 2025",
         "7095",
         "EB.1-0Q.....22 Especificação tipo \"B\", 1 pavimento, sala, cozinha e banheiro",
         "789",
         "Mínimo"
        ],
        [
         "37",
         "3",
         "Unidade da Federação",
         "38",
         "Reais",
         "-",
         "11",
         "Rondônia",
         "51",
         "Custo de projeto m²",
         "202501",
         "janeiro 2025",
         "7096",
         "EA.1-1Q.....30 Especificação tipo \"A\", 1 pavimento, sala, 1 quarto, cozinha e banheiro",
         "786",
         "Alto"
        ],
        [
         "38",
         "3",
         "Unidade da Federação",
         "38",
         "Reais",
         "-",
         "11",
         "Rondônia",
         "51",
         "Custo de projeto m²",
         "202501",
         "janeiro 2025",
         "7096",
         "EA.1-1Q.....30 Especificação tipo \"A\", 1 pavimento, sala, 1 quarto, cozinha e banheiro",
         "787",
         "Normal"
        ],
        [
         "39",
         "3",
         "Unidade da Federação",
         "38",
         "Reais",
         "1781.56",
         "11",
         "Rondônia",
         "51",
         "Custo de projeto m²",
         "202501",
         "janeiro 2025",
         "7096",
         "EA.1-1Q.....30 Especificação tipo \"A\", 1 pavimento, sala, 1 quarto, cozinha e banheiro",
         "788",
         "Baixo"
        ],
        [
         "40",
         "3",
         "Unidade da Federação",
         "38",
         "Reais",
         "1567.63",
         "11",
         "Rondônia",
         "51",
         "Custo de projeto m²",
         "202501",
         "janeiro 2025",
         "7096",
         "EA.1-1Q.....30 Especificação tipo \"A\", 1 pavimento, sala, 1 quarto, cozinha e banheiro",
         "789",
         "Mínimo"
        ],
        [
         "41",
         "3",
         "Unidade da Federação",
         "38",
         "Reais",
         "-",
         "11",
         "Rondônia",
         "51",
         "Custo de projeto m²",
         "202501",
         "janeiro 2025",
         "7097",
         "EB.1-1Q.....32 Especificação tipo \"B\", 1 pavimento, sala, 1 quarto, cozinha e banheiro",
         "786",
         "Alto"
        ],
        [
         "42",
         "3",
         "Unidade da Federação",
         "38",
         "Reais",
         "-",
         "11",
         "Rondônia",
         "51",
         "Custo de projeto m²",
         "202501",
         "janeiro 2025",
         "7097",
         "EB.1-1Q.....32 Especificação tipo \"B\", 1 pavimento, sala, 1 quarto, cozinha e banheiro",
         "787",
         "Normal"
        ],
        [
         "43",
         "3",
         "Unidade da Federação",
         "38",
         "Reais",
         "1816.51",
         "11",
         "Rondônia",
         "51",
         "Custo de projeto m²",
         "202501",
         "janeiro 2025",
         "7097",
         "EB.1-1Q.....32 Especificação tipo \"B\", 1 pavimento, sala, 1 quarto, cozinha e banheiro",
         "788",
         "Baixo"
        ],
        [
         "44",
         "3",
         "Unidade da Federação",
         "38",
         "Reais",
         "1596.93",
         "11",
         "Rondônia",
         "51",
         "Custo de projeto m²",
         "202501",
         "janeiro 2025",
         "7097",
         "EB.1-1Q.....32 Especificação tipo \"B\", 1 pavimento, sala, 1 quarto, cozinha e banheiro",
         "789",
         "Mínimo"
        ],
        [
         "45",
         "3",
         "Unidade da Federação",
         "38",
         "Reais",
         "-",
         "11",
         "Rondônia",
         "51",
         "Custo de projeto m²",
         "202501",
         "janeiro 2025",
         "7098",
         "EA.2-2Q.....38 Especificação tipo \"A\", 1 pavimento, sala, 2 quartos, cozinha e banheiro",
         "786",
         "Alto"
        ],
        [
         "46",
         "3",
         "Unidade da Federação",
         "38",
         "Reais",
         "-",
         "11",
         "Rondônia",
         "51",
         "Custo de projeto m²",
         "202501",
         "janeiro 2025",
         "7098",
         "EA.2-2Q.....38 Especificação tipo \"A\", 1 pavimento, sala, 2 quartos, cozinha e banheiro",
         "787",
         "Normal"
        ],
        [
         "47",
         "3",
         "Unidade da Federação",
         "38",
         "Reais",
         "1607.42",
         "11",
         "Rondônia",
         "51",
         "Custo de projeto m²",
         "202501",
         "janeiro 2025",
         "7098",
         "EA.2-2Q.....38 Especificação tipo \"A\", 1 pavimento, sala, 2 quartos, cozinha e banheiro",
         "788",
         "Baixo"
        ],
        [
         "48",
         "3",
         "Unidade da Federação",
         "38",
         "Reais",
         "1401.86",
         "11",
         "Rondônia",
         "51",
         "Custo de projeto m²",
         "202501",
         "janeiro 2025",
         "7098",
         "EA.2-2Q.....38 Especificação tipo \"A\", 1 pavimento, sala, 2 quartos, cozinha e banheiro",
         "789",
         "Mínimo"
        ],
        [
         "49",
         "3",
         "Unidade da Federação",
         "38",
         "Reais",
         "-",
         "11",
         "Rondônia",
         "51",
         "Custo de projeto m²",
         "202501",
         "janeiro 2025",
         "7099",
         "EB.1-2Q.....39 Especificação tipo \"B\", 1 pavimento, sala, 2 quartos, cozinha e banheiro",
         "786",
         "Alto"
        ],
        [
         "50",
         "3",
         "Unidade da Federação",
         "38",
         "Reais",
         "-",
         "11",
         "Rondônia",
         "51",
         "Custo de projeto m²",
         "202501",
         "janeiro 2025",
         "7099",
         "EB.1-2Q.....39 Especificação tipo \"B\", 1 pavimento, sala, 2 quartos, cozinha e banheiro",
         "787",
         "Normal"
        ]
       ],
       "shape": {
        "columns": 15,
        "rows": 16848
       }
      },
      "text/html": [
       "<div>\n",
       "<style scoped>\n",
       "    .dataframe tbody tr th:only-of-type {\n",
       "        vertical-align: middle;\n",
       "    }\n",
       "\n",
       "    .dataframe tbody tr th {\n",
       "        vertical-align: top;\n",
       "    }\n",
       "\n",
       "    .dataframe thead th {\n",
       "        text-align: right;\n",
       "    }\n",
       "</style>\n",
       "<table border=\"1\" class=\"dataframe\">\n",
       "  <thead>\n",
       "    <tr style=\"text-align: right;\">\n",
       "      <th></th>\n",
       "      <th>nivel_territorial_codigo</th>\n",
       "      <th>nivel_territorial</th>\n",
       "      <th>unidade_de_medida_codigo</th>\n",
       "      <th>unidade_de_medida</th>\n",
       "      <th>valor</th>\n",
       "      <th>unidade_da_federacao_codigo</th>\n",
       "      <th>unidade_da_federacao</th>\n",
       "      <th>...</th>\n",
       "      <th>variavel</th>\n",
       "      <th>periodo</th>\n",
       "      <th>mes</th>\n",
       "      <th>tipo_de_porjeto_codigo</th>\n",
       "      <th>tipo_de_projeto</th>\n",
       "      <th>padrao_de_acabamento_codigo</th>\n",
       "      <th>padrao_de_acabamento</th>\n",
       "    </tr>\n",
       "    <tr>\n",
       "      <th>index</th>\n",
       "      <th></th>\n",
       "      <th></th>\n",
       "      <th></th>\n",
       "      <th></th>\n",
       "      <th></th>\n",
       "      <th></th>\n",
       "      <th></th>\n",
       "      <th></th>\n",
       "      <th></th>\n",
       "      <th></th>\n",
       "      <th></th>\n",
       "      <th></th>\n",
       "      <th></th>\n",
       "      <th></th>\n",
       "      <th></th>\n",
       "    </tr>\n",
       "  </thead>\n",
       "  <tbody>\n",
       "    <tr>\n",
       "      <th>1</th>\n",
       "      <td>3</td>\n",
       "      <td>Unidade da Federação</td>\n",
       "      <td>38</td>\n",
       "      <td>Reais</td>\n",
       "      <td>-</td>\n",
       "      <td>11</td>\n",
       "      <td>Rondônia</td>\n",
       "      <td>...</td>\n",
       "      <td>Custo de projeto m²</td>\n",
       "      <td>202501</td>\n",
       "      <td>janeiro 2025</td>\n",
       "      <td>7087</td>\n",
       "      <td>CP.1-2Q.....46 Casa popular, 1 pavimento, varanda, sala, 2 quartos, circulaç...</td>\n",
       "      <td>786</td>\n",
       "      <td>Alto</td>\n",
       "    </tr>\n",
       "    <tr>\n",
       "      <th>2</th>\n",
       "      <td>3</td>\n",
       "      <td>Unidade da Federação</td>\n",
       "      <td>38</td>\n",
       "      <td>Reais</td>\n",
       "      <td>2009.92</td>\n",
       "      <td>11</td>\n",
       "      <td>Rondônia</td>\n",
       "      <td>...</td>\n",
       "      <td>Custo de projeto m²</td>\n",
       "      <td>202501</td>\n",
       "      <td>janeiro 2025</td>\n",
       "      <td>7087</td>\n",
       "      <td>CP.1-2Q.....46 Casa popular, 1 pavimento, varanda, sala, 2 quartos, circulaç...</td>\n",
       "      <td>787</td>\n",
       "      <td>Normal</td>\n",
       "    </tr>\n",
       "    <tr>\n",
       "      <th>3</th>\n",
       "      <td>3</td>\n",
       "      <td>Unidade da Federação</td>\n",
       "      <td>38</td>\n",
       "      <td>Reais</td>\n",
       "      <td>1413.30</td>\n",
       "      <td>11</td>\n",
       "      <td>Rondônia</td>\n",
       "      <td>...</td>\n",
       "      <td>Custo de projeto m²</td>\n",
       "      <td>202501</td>\n",
       "      <td>janeiro 2025</td>\n",
       "      <td>7087</td>\n",
       "      <td>CP.1-2Q.....46 Casa popular, 1 pavimento, varanda, sala, 2 quartos, circulaç...</td>\n",
       "      <td>788</td>\n",
       "      <td>Baixo</td>\n",
       "    </tr>\n",
       "    <tr>\n",
       "      <th>4</th>\n",
       "      <td>3</td>\n",
       "      <td>Unidade da Federação</td>\n",
       "      <td>38</td>\n",
       "      <td>Reais</td>\n",
       "      <td>1215.72</td>\n",
       "      <td>11</td>\n",
       "      <td>Rondônia</td>\n",
       "      <td>...</td>\n",
       "      <td>Custo de projeto m²</td>\n",
       "      <td>202501</td>\n",
       "      <td>janeiro 2025</td>\n",
       "      <td>7087</td>\n",
       "      <td>CP.1-2Q.....46 Casa popular, 1 pavimento, varanda, sala, 2 quartos, circulaç...</td>\n",
       "      <td>789</td>\n",
       "      <td>Mínimo</td>\n",
       "    </tr>\n",
       "    <tr>\n",
       "      <th>5</th>\n",
       "      <td>3</td>\n",
       "      <td>Unidade da Federação</td>\n",
       "      <td>38</td>\n",
       "      <td>Reais</td>\n",
       "      <td>-</td>\n",
       "      <td>11</td>\n",
       "      <td>Rondônia</td>\n",
       "      <td>...</td>\n",
       "      <td>Custo de projeto m²</td>\n",
       "      <td>202501</td>\n",
       "      <td>janeiro 2025</td>\n",
       "      <td>7088</td>\n",
       "      <td>CP.1-2Q.....40 Casa popular, 1 pavimento, sala, 2 quartos, circulação, banhe...</td>\n",
       "      <td>786</td>\n",
       "      <td>Alto</td>\n",
       "    </tr>\n",
       "    <tr>\n",
       "      <th>...</th>\n",
       "      <td>...</td>\n",
       "      <td>...</td>\n",
       "      <td>...</td>\n",
       "      <td>...</td>\n",
       "      <td>...</td>\n",
       "      <td>...</td>\n",
       "      <td>...</td>\n",
       "      <td>...</td>\n",
       "      <td>...</td>\n",
       "      <td>...</td>\n",
       "      <td>...</td>\n",
       "      <td>...</td>\n",
       "      <td>...</td>\n",
       "      <td>...</td>\n",
       "      <td>...</td>\n",
       "    </tr>\n",
       "    <tr>\n",
       "      <th>16844</th>\n",
       "      <td>3</td>\n",
       "      <td>Unidade da Federação</td>\n",
       "      <td>38</td>\n",
       "      <td>Reais</td>\n",
       "      <td>1100.61</td>\n",
       "      <td>53</td>\n",
       "      <td>Distrito Federal</td>\n",
       "      <td>...</td>\n",
       "      <td>Custo de projeto m²</td>\n",
       "      <td>202504</td>\n",
       "      <td>abril 2025</td>\n",
       "      <td>7124</td>\n",
       "      <td>CB-MMO......31 Projeto-tipo cesta básica, materiais e mão-de-obra, sala, qua...</td>\n",
       "      <td>789</td>\n",
       "      <td>Mínimo</td>\n",
       "    </tr>\n",
       "    <tr>\n",
       "      <th>16845</th>\n",
       "      <td>3</td>\n",
       "      <td>Unidade da Federação</td>\n",
       "      <td>38</td>\n",
       "      <td>Reais</td>\n",
       "      <td>-</td>\n",
       "      <td>53</td>\n",
       "      <td>Distrito Federal</td>\n",
       "      <td>...</td>\n",
       "      <td>Custo de projeto m²</td>\n",
       "      <td>202504</td>\n",
       "      <td>abril 2025</td>\n",
       "      <td>7125</td>\n",
       "      <td>CB-MMO......23 Projeto-tipo cesta básica, materiais e mão-de-obra, sala, cir...</td>\n",
       "      <td>786</td>\n",
       "      <td>Alto</td>\n",
       "    </tr>\n",
       "    <tr>\n",
       "      <th>16846</th>\n",
       "      <td>3</td>\n",
       "      <td>Unidade da Federação</td>\n",
       "      <td>38</td>\n",
       "      <td>Reais</td>\n",
       "      <td>-</td>\n",
       "      <td>53</td>\n",
       "      <td>Distrito Federal</td>\n",
       "      <td>...</td>\n",
       "      <td>Custo de projeto m²</td>\n",
       "      <td>202504</td>\n",
       "      <td>abril 2025</td>\n",
       "      <td>7125</td>\n",
       "      <td>CB-MMO......23 Projeto-tipo cesta básica, materiais e mão-de-obra, sala, cir...</td>\n",
       "      <td>787</td>\n",
       "      <td>Normal</td>\n",
       "    </tr>\n",
       "    <tr>\n",
       "      <th>16847</th>\n",
       "      <td>3</td>\n",
       "      <td>Unidade da Federação</td>\n",
       "      <td>38</td>\n",
       "      <td>Reais</td>\n",
       "      <td>-</td>\n",
       "      <td>53</td>\n",
       "      <td>Distrito Federal</td>\n",
       "      <td>...</td>\n",
       "      <td>Custo de projeto m²</td>\n",
       "      <td>202504</td>\n",
       "      <td>abril 2025</td>\n",
       "      <td>7125</td>\n",
       "      <td>CB-MMO......23 Projeto-tipo cesta básica, materiais e mão-de-obra, sala, cir...</td>\n",
       "      <td>788</td>\n",
       "      <td>Baixo</td>\n",
       "    </tr>\n",
       "    <tr>\n",
       "      <th>16848</th>\n",
       "      <td>3</td>\n",
       "      <td>Unidade da Federação</td>\n",
       "      <td>38</td>\n",
       "      <td>Reais</td>\n",
       "      <td>1257.95</td>\n",
       "      <td>53</td>\n",
       "      <td>Distrito Federal</td>\n",
       "      <td>...</td>\n",
       "      <td>Custo de projeto m²</td>\n",
       "      <td>202504</td>\n",
       "      <td>abril 2025</td>\n",
       "      <td>7125</td>\n",
       "      <td>CB-MMO......23 Projeto-tipo cesta básica, materiais e mão-de-obra, sala, cir...</td>\n",
       "      <td>789</td>\n",
       "      <td>Mínimo</td>\n",
       "    </tr>\n",
       "  </tbody>\n",
       "</table>\n",
       "<p>16848 rows × 15 columns</p>\n",
       "</div>"
      ],
      "text/plain": [
       "       nivel_territorial_codigo     nivel_territorial  \\\n",
       "index                                                   \n",
       "1                             3  Unidade da Federação   \n",
       "2                             3  Unidade da Federação   \n",
       "3                             3  Unidade da Federação   \n",
       "4                             3  Unidade da Federação   \n",
       "5                             3  Unidade da Federação   \n",
       "...                         ...                   ...   \n",
       "16844                         3  Unidade da Federação   \n",
       "16845                         3  Unidade da Federação   \n",
       "16846                         3  Unidade da Federação   \n",
       "16847                         3  Unidade da Federação   \n",
       "16848                         3  Unidade da Federação   \n",
       "\n",
       "       unidade_de_medida_codigo unidade_de_medida    valor  \\\n",
       "index                                                        \n",
       "1                            38             Reais        -   \n",
       "2                            38             Reais  2009.92   \n",
       "3                            38             Reais  1413.30   \n",
       "4                            38             Reais  1215.72   \n",
       "5                            38             Reais        -   \n",
       "...                         ...               ...      ...   \n",
       "16844                        38             Reais  1100.61   \n",
       "16845                        38             Reais        -   \n",
       "16846                        38             Reais        -   \n",
       "16847                        38             Reais        -   \n",
       "16848                        38             Reais  1257.95   \n",
       "\n",
       "       unidade_da_federacao_codigo unidade_da_federacao  ...  \\\n",
       "index                                                    ...   \n",
       "1                               11             Rondônia  ...   \n",
       "2                               11             Rondônia  ...   \n",
       "3                               11             Rondônia  ...   \n",
       "4                               11             Rondônia  ...   \n",
       "5                               11             Rondônia  ...   \n",
       "...                            ...                  ...  ...   \n",
       "16844                           53     Distrito Federal  ...   \n",
       "16845                           53     Distrito Federal  ...   \n",
       "16846                           53     Distrito Federal  ...   \n",
       "16847                           53     Distrito Federal  ...   \n",
       "16848                           53     Distrito Federal  ...   \n",
       "\n",
       "                  variavel periodo           mes tipo_de_porjeto_codigo  \\\n",
       "index                                                                     \n",
       "1      Custo de projeto m²  202501  janeiro 2025                   7087   \n",
       "2      Custo de projeto m²  202501  janeiro 2025                   7087   \n",
       "3      Custo de projeto m²  202501  janeiro 2025                   7087   \n",
       "4      Custo de projeto m²  202501  janeiro 2025                   7087   \n",
       "5      Custo de projeto m²  202501  janeiro 2025                   7088   \n",
       "...                    ...     ...           ...                    ...   \n",
       "16844  Custo de projeto m²  202504    abril 2025                   7124   \n",
       "16845  Custo de projeto m²  202504    abril 2025                   7125   \n",
       "16846  Custo de projeto m²  202504    abril 2025                   7125   \n",
       "16847  Custo de projeto m²  202504    abril 2025                   7125   \n",
       "16848  Custo de projeto m²  202504    abril 2025                   7125   \n",
       "\n",
       "                                                                       tipo_de_projeto  \\\n",
       "index                                                                                    \n",
       "1      CP.1-2Q.....46 Casa popular, 1 pavimento, varanda, sala, 2 quartos, circulaç...   \n",
       "2      CP.1-2Q.....46 Casa popular, 1 pavimento, varanda, sala, 2 quartos, circulaç...   \n",
       "3      CP.1-2Q.....46 Casa popular, 1 pavimento, varanda, sala, 2 quartos, circulaç...   \n",
       "4      CP.1-2Q.....46 Casa popular, 1 pavimento, varanda, sala, 2 quartos, circulaç...   \n",
       "5      CP.1-2Q.....40 Casa popular, 1 pavimento, sala, 2 quartos, circulação, banhe...   \n",
       "...                                                                                ...   \n",
       "16844  CB-MMO......31 Projeto-tipo cesta básica, materiais e mão-de-obra, sala, qua...   \n",
       "16845  CB-MMO......23 Projeto-tipo cesta básica, materiais e mão-de-obra, sala, cir...   \n",
       "16846  CB-MMO......23 Projeto-tipo cesta básica, materiais e mão-de-obra, sala, cir...   \n",
       "16847  CB-MMO......23 Projeto-tipo cesta básica, materiais e mão-de-obra, sala, cir...   \n",
       "16848  CB-MMO......23 Projeto-tipo cesta básica, materiais e mão-de-obra, sala, cir...   \n",
       "\n",
       "      padrao_de_acabamento_codigo  padrao_de_acabamento  \n",
       "index                                                    \n",
       "1                             786                  Alto  \n",
       "2                             787                Normal  \n",
       "3                             788                 Baixo  \n",
       "4                             789                Mínimo  \n",
       "5                             786                  Alto  \n",
       "...                           ...                   ...  \n",
       "16844                         789                Mínimo  \n",
       "16845                         786                  Alto  \n",
       "16846                         787                Normal  \n",
       "16847                         788                 Baixo  \n",
       "16848                         789                Mínimo  \n",
       "\n",
       "[16848 rows x 15 columns]"
      ]
     },
     "execution_count": 820,
     "metadata": {},
     "output_type": "execute_result"
    }
   ],
   "source": [
    "rename_columns = {'Nível Territorial (Código)': 'nivel_territorial_codigo', 'Nível Territorial': 'nivel_territorial', 'Unidade de Medida (Código)':'unidade_de_medida_codigo','Unidade de Medida': 'unidade_de_medida', 'Valor': 'valor',\n",
    "                  'Unidade da Federação (Código)': 'unidade_da_federacao_codigo', 'Unidade da Federação':'unidade_da_federacao', 'Variável (Código)': 'variavel_codigo', 'Variável': 'variavel','Mês (Código)': 'periodo',\n",
    "                  'Mês': 'mes', 'Tipo de projeto (Código)': 'tipo_de_porjeto_codigo', 'Tipo de projeto':'tipo_de_projeto', 'Padrão de acabamento (Código)': 'padrao_de_acabamento_codigo', 'Padrão de acabamento': 'padrao_de_acabamento'}\n",
    "\n",
    "df_colunas_atualizadas = df.rename(columns=rename_columns)\n",
    "df_colunas_atualizadas"
   ]
  },
  {
   "cell_type": "markdown",
   "id": "410264ec",
   "metadata": {},
   "source": [
    "#### Removendo colunas que não irão servir para análise ou armazenamento no banco"
   ]
  },
  {
   "cell_type": "code",
   "execution_count": 821,
   "id": "e6626d75",
   "metadata": {},
   "outputs": [
    {
     "data": {
      "application/vnd.microsoft.datawrangler.viewer.v0+json": {
       "columns": [
        {
         "name": "index",
         "rawType": "int64",
         "type": "integer"
        },
        {
         "name": "valor",
         "rawType": "object",
         "type": "string"
        },
        {
         "name": "unidade_da_federacao_codigo",
         "rawType": "int64",
         "type": "integer"
        },
        {
         "name": "unidade_da_federacao",
         "rawType": "object",
         "type": "string"
        },
        {
         "name": "periodo",
         "rawType": "int64",
         "type": "integer"
        },
        {
         "name": "tipo_de_projeto",
         "rawType": "object",
         "type": "string"
        },
        {
         "name": "padrao_de_acabamento",
         "rawType": "object",
         "type": "string"
        }
       ],
       "ref": "40f87d08-1cf0-4131-9334-f9d2fb151236",
       "rows": [
        [
         "1",
         "-",
         "11",
         "Rondônia",
         "202501",
         "CP.1-2Q.....46 Casa popular, 1 pavimento, varanda, sala, 2 quartos, circulação, banheiro e cozinha",
         "Alto"
        ],
        [
         "2",
         "2009.92",
         "11",
         "Rondônia",
         "202501",
         "CP.1-2Q.....46 Casa popular, 1 pavimento, varanda, sala, 2 quartos, circulação, banheiro e cozinha",
         "Normal"
        ],
        [
         "3",
         "1413.30",
         "11",
         "Rondônia",
         "202501",
         "CP.1-2Q.....46 Casa popular, 1 pavimento, varanda, sala, 2 quartos, circulação, banheiro e cozinha",
         "Baixo"
        ],
        [
         "4",
         "1215.72",
         "11",
         "Rondônia",
         "202501",
         "CP.1-2Q.....46 Casa popular, 1 pavimento, varanda, sala, 2 quartos, circulação, banheiro e cozinha",
         "Mínimo"
        ],
        [
         "5",
         "-",
         "11",
         "Rondônia",
         "202501",
         "CP.1-2Q.....40 Casa popular, 1 pavimento, sala, 2 quartos, circulação, banheiro e cozinha",
         "Alto"
        ],
        [
         "6",
         "2254.80",
         "11",
         "Rondônia",
         "202501",
         "CP.1-2Q.....40 Casa popular, 1 pavimento, sala, 2 quartos, circulação, banheiro e cozinha",
         "Normal"
        ],
        [
         "7",
         "1581.98",
         "11",
         "Rondônia",
         "202501",
         "CP.1-2Q.....40 Casa popular, 1 pavimento, sala, 2 quartos, circulação, banheiro e cozinha",
         "Baixo"
        ],
        [
         "8",
         "1362.58",
         "11",
         "Rondônia",
         "202501",
         "CP.1-2Q.....40 Casa popular, 1 pavimento, sala, 2 quartos, circulação, banheiro e cozinha",
         "Mínimo"
        ],
        [
         "9",
         "-",
         "11",
         "Rondônia",
         "202501",
         "CR.1-2Q.....62 Casa residencial, 1 pavimento, varanda, sala,2 quartos, circulação, banheiro, cozinha, área de serviço, quarto e WC de empregada",
         "Alto"
        ],
        [
         "10",
         "2236.13",
         "11",
         "Rondônia",
         "202501",
         "CR.1-2Q.....62 Casa residencial, 1 pavimento, varanda, sala,2 quartos, circulação, banheiro, cozinha, área de serviço, quarto e WC de empregada",
         "Normal"
        ],
        [
         "11",
         "1615.48",
         "11",
         "Rondônia",
         "202501",
         "CR.1-2Q.....62 Casa residencial, 1 pavimento, varanda, sala,2 quartos, circulação, banheiro, cozinha, área de serviço, quarto e WC de empregada",
         "Baixo"
        ],
        [
         "12",
         "1412.19",
         "11",
         "Rondônia",
         "202501",
         "CR.1-2Q.....62 Casa residencial, 1 pavimento, varanda, sala,2 quartos, circulação, banheiro, cozinha, área de serviço, quarto e WC de empregada",
         "Mínimo"
        ],
        [
         "13",
         "2398.70",
         "11",
         "Rondônia",
         "202501",
         "CR.1-3Q....104 Casa residencial, 1 pavimento, varanda, sala,3 quartos, circulação, banheiro, lavabo, cozinha, área de serviço, quarto e WC de empregada",
         "Alto"
        ],
        [
         "14",
         "1911.39",
         "11",
         "Rondônia",
         "202501",
         "CR.1-3Q....104 Casa residencial, 1 pavimento, varanda, sala,3 quartos, circulação, banheiro, lavabo, cozinha, área de serviço, quarto e WC de empregada",
         "Normal"
        ],
        [
         "15",
         "1338.29",
         "11",
         "Rondônia",
         "202501",
         "CR.1-3Q....104 Casa residencial, 1 pavimento, varanda, sala,3 quartos, circulação, banheiro, lavabo, cozinha, área de serviço, quarto e WC de empregada",
         "Baixo"
        ],
        [
         "16",
         "-",
         "11",
         "Rondônia",
         "202501",
         "CR.1-3Q....104 Casa residencial, 1 pavimento, varanda, sala,3 quartos, circulação, banheiro, lavabo, cozinha, área de serviço, quarto e WC de empregada",
         "Mínimo"
        ],
        [
         "17",
         "2281.19",
         "11",
         "Rondônia",
         "202501",
         "CR.1-4Q....122 Casa residencial, 1 pavimento, varanda, sala,4 quartos, circulação, 2 banheiros, cozinha, área de serviço, quarto e WC de empregada",
         "Alto"
        ],
        [
         "18",
         "1821.15",
         "11",
         "Rondônia",
         "202501",
         "CR.1-4Q....122 Casa residencial, 1 pavimento, varanda, sala,4 quartos, circulação, 2 banheiros, cozinha, área de serviço, quarto e WC de empregada",
         "Normal"
        ],
        [
         "19",
         "1259.13",
         "11",
         "Rondônia",
         "202501",
         "CR.1-4Q....122 Casa residencial, 1 pavimento, varanda, sala,4 quartos, circulação, 2 banheiros, cozinha, área de serviço, quarto e WC de empregada",
         "Baixo"
        ],
        [
         "20",
         "-",
         "11",
         "Rondônia",
         "202501",
         "CR.1-4Q....122 Casa residencial, 1 pavimento, varanda, sala,4 quartos, circulação, 2 banheiros, cozinha, área de serviço, quarto e WC de empregada",
         "Mínimo"
        ],
        [
         "21",
         "-",
         "11",
         "Rondônia",
         "202501",
         "EA.1-US.....04 Especificação tipo \"A\", 1 pavimento, somente unidade sanitária",
         "Alto"
        ],
        [
         "22",
         "-",
         "11",
         "Rondônia",
         "202501",
         "EA.1-US.....04 Especificação tipo \"A\", 1 pavimento, somente unidade sanitária",
         "Normal"
        ],
        [
         "23",
         "-",
         "11",
         "Rondônia",
         "202501",
         "EA.1-US.....04 Especificação tipo \"A\", 1 pavimento, somente unidade sanitária",
         "Baixo"
        ],
        [
         "24",
         "2653.91",
         "11",
         "Rondônia",
         "202501",
         "EA.1-US.....04 Especificação tipo \"A\", 1 pavimento, somente unidade sanitária",
         "Mínimo"
        ],
        [
         "25",
         "-",
         "11",
         "Rondônia",
         "202501",
         "EB.1-US.....03 Especificação tipo \"B\", 1 pavimento, somente unidade sanitária",
         "Alto"
        ],
        [
         "26",
         "-",
         "11",
         "Rondônia",
         "202501",
         "EB.1-US.....03 Especificação tipo \"B\", 1 pavimento, somente unidade sanitária",
         "Normal"
        ],
        [
         "27",
         "-",
         "11",
         "Rondônia",
         "202501",
         "EB.1-US.....03 Especificação tipo \"B\", 1 pavimento, somente unidade sanitária",
         "Baixo"
        ],
        [
         "28",
         "3312.55",
         "11",
         "Rondônia",
         "202501",
         "EB.1-US.....03 Especificação tipo \"B\", 1 pavimento, somente unidade sanitária",
         "Mínimo"
        ],
        [
         "29",
         "-",
         "11",
         "Rondônia",
         "202501",
         "EA.1-0Q.....22 Especificação tipo \"A\", 1 pavimento, sala, cozinha e banheiro",
         "Alto"
        ],
        [
         "30",
         "-",
         "11",
         "Rondônia",
         "202501",
         "EA.1-0Q.....22 Especificação tipo \"A\", 1 pavimento, sala, cozinha e banheiro",
         "Normal"
        ],
        [
         "31",
         "1991.83",
         "11",
         "Rondônia",
         "202501",
         "EA.1-0Q.....22 Especificação tipo \"A\", 1 pavimento, sala, cozinha e banheiro",
         "Baixo"
        ],
        [
         "32",
         "1775.78",
         "11",
         "Rondônia",
         "202501",
         "EA.1-0Q.....22 Especificação tipo \"A\", 1 pavimento, sala, cozinha e banheiro",
         "Mínimo"
        ],
        [
         "33",
         "-",
         "11",
         "Rondônia",
         "202501",
         "EB.1-0Q.....22 Especificação tipo \"B\", 1 pavimento, sala, cozinha e banheiro",
         "Alto"
        ],
        [
         "34",
         "-",
         "11",
         "Rondônia",
         "202501",
         "EB.1-0Q.....22 Especificação tipo \"B\", 1 pavimento, sala, cozinha e banheiro",
         "Normal"
        ],
        [
         "35",
         "1975.55",
         "11",
         "Rondônia",
         "202501",
         "EB.1-0Q.....22 Especificação tipo \"B\", 1 pavimento, sala, cozinha e banheiro",
         "Baixo"
        ],
        [
         "36",
         "1757.27",
         "11",
         "Rondônia",
         "202501",
         "EB.1-0Q.....22 Especificação tipo \"B\", 1 pavimento, sala, cozinha e banheiro",
         "Mínimo"
        ],
        [
         "37",
         "-",
         "11",
         "Rondônia",
         "202501",
         "EA.1-1Q.....30 Especificação tipo \"A\", 1 pavimento, sala, 1 quarto, cozinha e banheiro",
         "Alto"
        ],
        [
         "38",
         "-",
         "11",
         "Rondônia",
         "202501",
         "EA.1-1Q.....30 Especificação tipo \"A\", 1 pavimento, sala, 1 quarto, cozinha e banheiro",
         "Normal"
        ],
        [
         "39",
         "1781.56",
         "11",
         "Rondônia",
         "202501",
         "EA.1-1Q.....30 Especificação tipo \"A\", 1 pavimento, sala, 1 quarto, cozinha e banheiro",
         "Baixo"
        ],
        [
         "40",
         "1567.63",
         "11",
         "Rondônia",
         "202501",
         "EA.1-1Q.....30 Especificação tipo \"A\", 1 pavimento, sala, 1 quarto, cozinha e banheiro",
         "Mínimo"
        ],
        [
         "41",
         "-",
         "11",
         "Rondônia",
         "202501",
         "EB.1-1Q.....32 Especificação tipo \"B\", 1 pavimento, sala, 1 quarto, cozinha e banheiro",
         "Alto"
        ],
        [
         "42",
         "-",
         "11",
         "Rondônia",
         "202501",
         "EB.1-1Q.....32 Especificação tipo \"B\", 1 pavimento, sala, 1 quarto, cozinha e banheiro",
         "Normal"
        ],
        [
         "43",
         "1816.51",
         "11",
         "Rondônia",
         "202501",
         "EB.1-1Q.....32 Especificação tipo \"B\", 1 pavimento, sala, 1 quarto, cozinha e banheiro",
         "Baixo"
        ],
        [
         "44",
         "1596.93",
         "11",
         "Rondônia",
         "202501",
         "EB.1-1Q.....32 Especificação tipo \"B\", 1 pavimento, sala, 1 quarto, cozinha e banheiro",
         "Mínimo"
        ],
        [
         "45",
         "-",
         "11",
         "Rondônia",
         "202501",
         "EA.2-2Q.....38 Especificação tipo \"A\", 1 pavimento, sala, 2 quartos, cozinha e banheiro",
         "Alto"
        ],
        [
         "46",
         "-",
         "11",
         "Rondônia",
         "202501",
         "EA.2-2Q.....38 Especificação tipo \"A\", 1 pavimento, sala, 2 quartos, cozinha e banheiro",
         "Normal"
        ],
        [
         "47",
         "1607.42",
         "11",
         "Rondônia",
         "202501",
         "EA.2-2Q.....38 Especificação tipo \"A\", 1 pavimento, sala, 2 quartos, cozinha e banheiro",
         "Baixo"
        ],
        [
         "48",
         "1401.86",
         "11",
         "Rondônia",
         "202501",
         "EA.2-2Q.....38 Especificação tipo \"A\", 1 pavimento, sala, 2 quartos, cozinha e banheiro",
         "Mínimo"
        ],
        [
         "49",
         "-",
         "11",
         "Rondônia",
         "202501",
         "EB.1-2Q.....39 Especificação tipo \"B\", 1 pavimento, sala, 2 quartos, cozinha e banheiro",
         "Alto"
        ],
        [
         "50",
         "-",
         "11",
         "Rondônia",
         "202501",
         "EB.1-2Q.....39 Especificação tipo \"B\", 1 pavimento, sala, 2 quartos, cozinha e banheiro",
         "Normal"
        ]
       ],
       "shape": {
        "columns": 6,
        "rows": 16848
       }
      },
      "text/html": [
       "<div>\n",
       "<style scoped>\n",
       "    .dataframe tbody tr th:only-of-type {\n",
       "        vertical-align: middle;\n",
       "    }\n",
       "\n",
       "    .dataframe tbody tr th {\n",
       "        vertical-align: top;\n",
       "    }\n",
       "\n",
       "    .dataframe thead th {\n",
       "        text-align: right;\n",
       "    }\n",
       "</style>\n",
       "<table border=\"1\" class=\"dataframe\">\n",
       "  <thead>\n",
       "    <tr style=\"text-align: right;\">\n",
       "      <th></th>\n",
       "      <th>valor</th>\n",
       "      <th>unidade_da_federacao_codigo</th>\n",
       "      <th>unidade_da_federacao</th>\n",
       "      <th>periodo</th>\n",
       "      <th>tipo_de_projeto</th>\n",
       "      <th>padrao_de_acabamento</th>\n",
       "    </tr>\n",
       "    <tr>\n",
       "      <th>index</th>\n",
       "      <th></th>\n",
       "      <th></th>\n",
       "      <th></th>\n",
       "      <th></th>\n",
       "      <th></th>\n",
       "      <th></th>\n",
       "    </tr>\n",
       "  </thead>\n",
       "  <tbody>\n",
       "    <tr>\n",
       "      <th>1</th>\n",
       "      <td>-</td>\n",
       "      <td>11</td>\n",
       "      <td>Rondônia</td>\n",
       "      <td>202501</td>\n",
       "      <td>CP.1-2Q.....46 Casa popular, 1 pavimento, varanda, sala, 2 quartos, circulaç...</td>\n",
       "      <td>Alto</td>\n",
       "    </tr>\n",
       "    <tr>\n",
       "      <th>2</th>\n",
       "      <td>2009.92</td>\n",
       "      <td>11</td>\n",
       "      <td>Rondônia</td>\n",
       "      <td>202501</td>\n",
       "      <td>CP.1-2Q.....46 Casa popular, 1 pavimento, varanda, sala, 2 quartos, circulaç...</td>\n",
       "      <td>Normal</td>\n",
       "    </tr>\n",
       "    <tr>\n",
       "      <th>3</th>\n",
       "      <td>1413.30</td>\n",
       "      <td>11</td>\n",
       "      <td>Rondônia</td>\n",
       "      <td>202501</td>\n",
       "      <td>CP.1-2Q.....46 Casa popular, 1 pavimento, varanda, sala, 2 quartos, circulaç...</td>\n",
       "      <td>Baixo</td>\n",
       "    </tr>\n",
       "    <tr>\n",
       "      <th>4</th>\n",
       "      <td>1215.72</td>\n",
       "      <td>11</td>\n",
       "      <td>Rondônia</td>\n",
       "      <td>202501</td>\n",
       "      <td>CP.1-2Q.....46 Casa popular, 1 pavimento, varanda, sala, 2 quartos, circulaç...</td>\n",
       "      <td>Mínimo</td>\n",
       "    </tr>\n",
       "    <tr>\n",
       "      <th>5</th>\n",
       "      <td>-</td>\n",
       "      <td>11</td>\n",
       "      <td>Rondônia</td>\n",
       "      <td>202501</td>\n",
       "      <td>CP.1-2Q.....40 Casa popular, 1 pavimento, sala, 2 quartos, circulação, banhe...</td>\n",
       "      <td>Alto</td>\n",
       "    </tr>\n",
       "    <tr>\n",
       "      <th>...</th>\n",
       "      <td>...</td>\n",
       "      <td>...</td>\n",
       "      <td>...</td>\n",
       "      <td>...</td>\n",
       "      <td>...</td>\n",
       "      <td>...</td>\n",
       "    </tr>\n",
       "    <tr>\n",
       "      <th>16844</th>\n",
       "      <td>1100.61</td>\n",
       "      <td>53</td>\n",
       "      <td>Distrito Federal</td>\n",
       "      <td>202504</td>\n",
       "      <td>CB-MMO......31 Projeto-tipo cesta básica, materiais e mão-de-obra, sala, qua...</td>\n",
       "      <td>Mínimo</td>\n",
       "    </tr>\n",
       "    <tr>\n",
       "      <th>16845</th>\n",
       "      <td>-</td>\n",
       "      <td>53</td>\n",
       "      <td>Distrito Federal</td>\n",
       "      <td>202504</td>\n",
       "      <td>CB-MMO......23 Projeto-tipo cesta básica, materiais e mão-de-obra, sala, cir...</td>\n",
       "      <td>Alto</td>\n",
       "    </tr>\n",
       "    <tr>\n",
       "      <th>16846</th>\n",
       "      <td>-</td>\n",
       "      <td>53</td>\n",
       "      <td>Distrito Federal</td>\n",
       "      <td>202504</td>\n",
       "      <td>CB-MMO......23 Projeto-tipo cesta básica, materiais e mão-de-obra, sala, cir...</td>\n",
       "      <td>Normal</td>\n",
       "    </tr>\n",
       "    <tr>\n",
       "      <th>16847</th>\n",
       "      <td>-</td>\n",
       "      <td>53</td>\n",
       "      <td>Distrito Federal</td>\n",
       "      <td>202504</td>\n",
       "      <td>CB-MMO......23 Projeto-tipo cesta básica, materiais e mão-de-obra, sala, cir...</td>\n",
       "      <td>Baixo</td>\n",
       "    </tr>\n",
       "    <tr>\n",
       "      <th>16848</th>\n",
       "      <td>1257.95</td>\n",
       "      <td>53</td>\n",
       "      <td>Distrito Federal</td>\n",
       "      <td>202504</td>\n",
       "      <td>CB-MMO......23 Projeto-tipo cesta básica, materiais e mão-de-obra, sala, cir...</td>\n",
       "      <td>Mínimo</td>\n",
       "    </tr>\n",
       "  </tbody>\n",
       "</table>\n",
       "<p>16848 rows × 6 columns</p>\n",
       "</div>"
      ],
      "text/plain": [
       "         valor  unidade_da_federacao_codigo unidade_da_federacao  periodo  \\\n",
       "index                                                                       \n",
       "1            -                           11             Rondônia   202501   \n",
       "2      2009.92                           11             Rondônia   202501   \n",
       "3      1413.30                           11             Rondônia   202501   \n",
       "4      1215.72                           11             Rondônia   202501   \n",
       "5            -                           11             Rondônia   202501   \n",
       "...        ...                          ...                  ...      ...   \n",
       "16844  1100.61                           53     Distrito Federal   202504   \n",
       "16845        -                           53     Distrito Federal   202504   \n",
       "16846        -                           53     Distrito Federal   202504   \n",
       "16847        -                           53     Distrito Federal   202504   \n",
       "16848  1257.95                           53     Distrito Federal   202504   \n",
       "\n",
       "                                                                       tipo_de_projeto  \\\n",
       "index                                                                                    \n",
       "1      CP.1-2Q.....46 Casa popular, 1 pavimento, varanda, sala, 2 quartos, circulaç...   \n",
       "2      CP.1-2Q.....46 Casa popular, 1 pavimento, varanda, sala, 2 quartos, circulaç...   \n",
       "3      CP.1-2Q.....46 Casa popular, 1 pavimento, varanda, sala, 2 quartos, circulaç...   \n",
       "4      CP.1-2Q.....46 Casa popular, 1 pavimento, varanda, sala, 2 quartos, circulaç...   \n",
       "5      CP.1-2Q.....40 Casa popular, 1 pavimento, sala, 2 quartos, circulação, banhe...   \n",
       "...                                                                                ...   \n",
       "16844  CB-MMO......31 Projeto-tipo cesta básica, materiais e mão-de-obra, sala, qua...   \n",
       "16845  CB-MMO......23 Projeto-tipo cesta básica, materiais e mão-de-obra, sala, cir...   \n",
       "16846  CB-MMO......23 Projeto-tipo cesta básica, materiais e mão-de-obra, sala, cir...   \n",
       "16847  CB-MMO......23 Projeto-tipo cesta básica, materiais e mão-de-obra, sala, cir...   \n",
       "16848  CB-MMO......23 Projeto-tipo cesta básica, materiais e mão-de-obra, sala, cir...   \n",
       "\n",
       "      padrao_de_acabamento  \n",
       "index                       \n",
       "1                     Alto  \n",
       "2                   Normal  \n",
       "3                    Baixo  \n",
       "4                   Mínimo  \n",
       "5                     Alto  \n",
       "...                    ...  \n",
       "16844               Mínimo  \n",
       "16845                 Alto  \n",
       "16846               Normal  \n",
       "16847                Baixo  \n",
       "16848               Mínimo  \n",
       "\n",
       "[16848 rows x 6 columns]"
      ]
     },
     "execution_count": 821,
     "metadata": {},
     "output_type": "execute_result"
    }
   ],
   "source": [
    "df_colunas_atualizadas['nivel_territorial_codigo'].unique() # retorno -> df_colunas_atualizadas['nivel_territorial_codigo'].unique() / justificativa: repete os valores [3]\n",
    "df_colunas_atualizadas['nivel_territorial'].unique()  # retorno -> array(['Unidade da Federação'], dtype=object) / justificativa: repete os valores ['Unidade da Federação']\n",
    "df_colunas_atualizadas['unidade_de_medida_codigo'].unique() # retorno -> array([38]) / justificativa: repete os valores [38]\n",
    "df_colunas_atualizadas['unidade_de_medida'].unique() # retorno -> array(['Reais'], dtype=object) / justificativa: repete os valores ['Reais']\n",
    "df_colunas_atualizadas['variavel_codigo'].unique() # retorno array([51]) / justificativa: repete os valores array([51])\n",
    "df_colunas_atualizadas['variavel'].unique() # retorno array(['Custo de projeto m²'], dtype=object) / justificativa: repete os valores ['Custo de projeto m²']\n",
    "df_colunas_atualizadas['mes'] # justificativa: eu ja tenho uma coluna de periodo\n",
    "df_colunas_atualizadas['tipo_de_porjeto_codigo'] #justificativa: variavel que não precisa ser analisada\n",
    "df_colunas_atualizadas['padrao_de_acabamento_codigo'] #justificativa: variavel que não precisa ser analisada\n",
    "\n",
    "colunas_a_remover = ['padrao_de_acabamento_codigo','tipo_de_porjeto_codigo', 'nivel_territorial_codigo','nivel_territorial','unidade_de_medida_codigo', 'unidade_de_medida', 'variavel_codigo', 'variavel', 'mes']\n",
    "\n",
    "df_colunas_removidas = df_colunas_atualizadas.drop(columns=colunas_a_remover)\n",
    "df_colunas_removidas"
   ]
  },
  {
   "cell_type": "markdown",
   "id": "d81651fb",
   "metadata": {},
   "source": [
    "### A partir daqui, irei tratar as colunas em específico."
   ]
  },
  {
   "cell_type": "markdown",
   "id": "d522e2e3",
   "metadata": {},
   "source": [
    "Começando com a coluna valor: requisitos -> Verificar valores nulos ou NaN, verificar caracteres indevidos. Coluna valor é pra ser do tipo float. "
   ]
  },
  {
   "cell_type": "code",
   "execution_count": 822,
   "id": "3afd5c12",
   "metadata": {},
   "outputs": [
    {
     "data": {
      "text/plain": [
       "np.int64(0)"
      ]
     },
     "execution_count": 822,
     "metadata": {},
     "output_type": "execute_result"
    }
   ],
   "source": [
    "df_colunas_removidas['valor'].isna().sum()\n",
    "# não existem valores nulos/ausentes"
   ]
  },
  {
   "cell_type": "code",
   "execution_count": 823,
   "id": "c4463c4f",
   "metadata": {},
   "outputs": [
    {
     "data": {
      "text/plain": [
       "dtype('O')"
      ]
     },
     "execution_count": 823,
     "metadata": {},
     "output_type": "execute_result"
    }
   ],
   "source": [
    "df_colunas_removidas['valor'].dtype\n",
    "# coluna valor vindo como 'O' de object, ou seja, string"
   ]
  },
  {
   "cell_type": "markdown",
   "id": "3988416d",
   "metadata": {},
   "source": [
    "### Transformando a coluna de str para float, percebi inconsistências, a fonte de dados tratava '-' como não informado"
   ]
  },
  {
   "cell_type": "code",
   "execution_count": 824,
   "id": "45da7112",
   "metadata": {},
   "outputs": [
    {
     "data": {
      "application/vnd.microsoft.datawrangler.viewer.v0+json": {
       "columns": [
        {
         "name": "index",
         "rawType": "int64",
         "type": "integer"
        },
        {
         "name": "valor",
         "rawType": "float64",
         "type": "float"
        },
        {
         "name": "unidade_da_federacao_codigo",
         "rawType": "int64",
         "type": "integer"
        },
        {
         "name": "unidade_da_federacao",
         "rawType": "object",
         "type": "string"
        },
        {
         "name": "periodo",
         "rawType": "int64",
         "type": "integer"
        },
        {
         "name": "tipo_de_projeto",
         "rawType": "object",
         "type": "string"
        },
        {
         "name": "padrao_de_acabamento",
         "rawType": "object",
         "type": "string"
        }
       ],
       "ref": "4c9431fb-3ac7-4996-b63c-2a75aa085718",
       "rows": [
        [
         "1",
         "0.0",
         "11",
         "Rondônia",
         "202501",
         "CP.1-2Q.....46 Casa popular, 1 pavimento, varanda, sala, 2 quartos, circulação, banheiro e cozinha",
         "Alto"
        ],
        [
         "2",
         "2009.92",
         "11",
         "Rondônia",
         "202501",
         "CP.1-2Q.....46 Casa popular, 1 pavimento, varanda, sala, 2 quartos, circulação, banheiro e cozinha",
         "Normal"
        ],
        [
         "3",
         "1413.3",
         "11",
         "Rondônia",
         "202501",
         "CP.1-2Q.....46 Casa popular, 1 pavimento, varanda, sala, 2 quartos, circulação, banheiro e cozinha",
         "Baixo"
        ],
        [
         "4",
         "1215.72",
         "11",
         "Rondônia",
         "202501",
         "CP.1-2Q.....46 Casa popular, 1 pavimento, varanda, sala, 2 quartos, circulação, banheiro e cozinha",
         "Mínimo"
        ],
        [
         "5",
         "0.0",
         "11",
         "Rondônia",
         "202501",
         "CP.1-2Q.....40 Casa popular, 1 pavimento, sala, 2 quartos, circulação, banheiro e cozinha",
         "Alto"
        ],
        [
         "6",
         "2254.8",
         "11",
         "Rondônia",
         "202501",
         "CP.1-2Q.....40 Casa popular, 1 pavimento, sala, 2 quartos, circulação, banheiro e cozinha",
         "Normal"
        ],
        [
         "7",
         "1581.98",
         "11",
         "Rondônia",
         "202501",
         "CP.1-2Q.....40 Casa popular, 1 pavimento, sala, 2 quartos, circulação, banheiro e cozinha",
         "Baixo"
        ],
        [
         "8",
         "1362.58",
         "11",
         "Rondônia",
         "202501",
         "CP.1-2Q.....40 Casa popular, 1 pavimento, sala, 2 quartos, circulação, banheiro e cozinha",
         "Mínimo"
        ],
        [
         "9",
         "0.0",
         "11",
         "Rondônia",
         "202501",
         "CR.1-2Q.....62 Casa residencial, 1 pavimento, varanda, sala,2 quartos, circulação, banheiro, cozinha, área de serviço, quarto e WC de empregada",
         "Alto"
        ],
        [
         "10",
         "2236.13",
         "11",
         "Rondônia",
         "202501",
         "CR.1-2Q.....62 Casa residencial, 1 pavimento, varanda, sala,2 quartos, circulação, banheiro, cozinha, área de serviço, quarto e WC de empregada",
         "Normal"
        ],
        [
         "11",
         "1615.48",
         "11",
         "Rondônia",
         "202501",
         "CR.1-2Q.....62 Casa residencial, 1 pavimento, varanda, sala,2 quartos, circulação, banheiro, cozinha, área de serviço, quarto e WC de empregada",
         "Baixo"
        ],
        [
         "12",
         "1412.19",
         "11",
         "Rondônia",
         "202501",
         "CR.1-2Q.....62 Casa residencial, 1 pavimento, varanda, sala,2 quartos, circulação, banheiro, cozinha, área de serviço, quarto e WC de empregada",
         "Mínimo"
        ],
        [
         "13",
         "2398.7",
         "11",
         "Rondônia",
         "202501",
         "CR.1-3Q....104 Casa residencial, 1 pavimento, varanda, sala,3 quartos, circulação, banheiro, lavabo, cozinha, área de serviço, quarto e WC de empregada",
         "Alto"
        ],
        [
         "14",
         "1911.39",
         "11",
         "Rondônia",
         "202501",
         "CR.1-3Q....104 Casa residencial, 1 pavimento, varanda, sala,3 quartos, circulação, banheiro, lavabo, cozinha, área de serviço, quarto e WC de empregada",
         "Normal"
        ],
        [
         "15",
         "1338.29",
         "11",
         "Rondônia",
         "202501",
         "CR.1-3Q....104 Casa residencial, 1 pavimento, varanda, sala,3 quartos, circulação, banheiro, lavabo, cozinha, área de serviço, quarto e WC de empregada",
         "Baixo"
        ],
        [
         "16",
         "0.0",
         "11",
         "Rondônia",
         "202501",
         "CR.1-3Q....104 Casa residencial, 1 pavimento, varanda, sala,3 quartos, circulação, banheiro, lavabo, cozinha, área de serviço, quarto e WC de empregada",
         "Mínimo"
        ],
        [
         "17",
         "2281.19",
         "11",
         "Rondônia",
         "202501",
         "CR.1-4Q....122 Casa residencial, 1 pavimento, varanda, sala,4 quartos, circulação, 2 banheiros, cozinha, área de serviço, quarto e WC de empregada",
         "Alto"
        ],
        [
         "18",
         "1821.15",
         "11",
         "Rondônia",
         "202501",
         "CR.1-4Q....122 Casa residencial, 1 pavimento, varanda, sala,4 quartos, circulação, 2 banheiros, cozinha, área de serviço, quarto e WC de empregada",
         "Normal"
        ],
        [
         "19",
         "1259.13",
         "11",
         "Rondônia",
         "202501",
         "CR.1-4Q....122 Casa residencial, 1 pavimento, varanda, sala,4 quartos, circulação, 2 banheiros, cozinha, área de serviço, quarto e WC de empregada",
         "Baixo"
        ],
        [
         "20",
         "0.0",
         "11",
         "Rondônia",
         "202501",
         "CR.1-4Q....122 Casa residencial, 1 pavimento, varanda, sala,4 quartos, circulação, 2 banheiros, cozinha, área de serviço, quarto e WC de empregada",
         "Mínimo"
        ],
        [
         "21",
         "0.0",
         "11",
         "Rondônia",
         "202501",
         "EA.1-US.....04 Especificação tipo \"A\", 1 pavimento, somente unidade sanitária",
         "Alto"
        ],
        [
         "22",
         "0.0",
         "11",
         "Rondônia",
         "202501",
         "EA.1-US.....04 Especificação tipo \"A\", 1 pavimento, somente unidade sanitária",
         "Normal"
        ],
        [
         "23",
         "0.0",
         "11",
         "Rondônia",
         "202501",
         "EA.1-US.....04 Especificação tipo \"A\", 1 pavimento, somente unidade sanitária",
         "Baixo"
        ],
        [
         "24",
         "2653.91",
         "11",
         "Rondônia",
         "202501",
         "EA.1-US.....04 Especificação tipo \"A\", 1 pavimento, somente unidade sanitária",
         "Mínimo"
        ],
        [
         "25",
         "0.0",
         "11",
         "Rondônia",
         "202501",
         "EB.1-US.....03 Especificação tipo \"B\", 1 pavimento, somente unidade sanitária",
         "Alto"
        ],
        [
         "26",
         "0.0",
         "11",
         "Rondônia",
         "202501",
         "EB.1-US.....03 Especificação tipo \"B\", 1 pavimento, somente unidade sanitária",
         "Normal"
        ],
        [
         "27",
         "0.0",
         "11",
         "Rondônia",
         "202501",
         "EB.1-US.....03 Especificação tipo \"B\", 1 pavimento, somente unidade sanitária",
         "Baixo"
        ],
        [
         "28",
         "3312.55",
         "11",
         "Rondônia",
         "202501",
         "EB.1-US.....03 Especificação tipo \"B\", 1 pavimento, somente unidade sanitária",
         "Mínimo"
        ],
        [
         "29",
         "0.0",
         "11",
         "Rondônia",
         "202501",
         "EA.1-0Q.....22 Especificação tipo \"A\", 1 pavimento, sala, cozinha e banheiro",
         "Alto"
        ],
        [
         "30",
         "0.0",
         "11",
         "Rondônia",
         "202501",
         "EA.1-0Q.....22 Especificação tipo \"A\", 1 pavimento, sala, cozinha e banheiro",
         "Normal"
        ],
        [
         "31",
         "1991.83",
         "11",
         "Rondônia",
         "202501",
         "EA.1-0Q.....22 Especificação tipo \"A\", 1 pavimento, sala, cozinha e banheiro",
         "Baixo"
        ],
        [
         "32",
         "1775.78",
         "11",
         "Rondônia",
         "202501",
         "EA.1-0Q.....22 Especificação tipo \"A\", 1 pavimento, sala, cozinha e banheiro",
         "Mínimo"
        ],
        [
         "33",
         "0.0",
         "11",
         "Rondônia",
         "202501",
         "EB.1-0Q.....22 Especificação tipo \"B\", 1 pavimento, sala, cozinha e banheiro",
         "Alto"
        ],
        [
         "34",
         "0.0",
         "11",
         "Rondônia",
         "202501",
         "EB.1-0Q.....22 Especificação tipo \"B\", 1 pavimento, sala, cozinha e banheiro",
         "Normal"
        ],
        [
         "35",
         "1975.55",
         "11",
         "Rondônia",
         "202501",
         "EB.1-0Q.....22 Especificação tipo \"B\", 1 pavimento, sala, cozinha e banheiro",
         "Baixo"
        ],
        [
         "36",
         "1757.27",
         "11",
         "Rondônia",
         "202501",
         "EB.1-0Q.....22 Especificação tipo \"B\", 1 pavimento, sala, cozinha e banheiro",
         "Mínimo"
        ],
        [
         "37",
         "0.0",
         "11",
         "Rondônia",
         "202501",
         "EA.1-1Q.....30 Especificação tipo \"A\", 1 pavimento, sala, 1 quarto, cozinha e banheiro",
         "Alto"
        ],
        [
         "38",
         "0.0",
         "11",
         "Rondônia",
         "202501",
         "EA.1-1Q.....30 Especificação tipo \"A\", 1 pavimento, sala, 1 quarto, cozinha e banheiro",
         "Normal"
        ],
        [
         "39",
         "1781.56",
         "11",
         "Rondônia",
         "202501",
         "EA.1-1Q.....30 Especificação tipo \"A\", 1 pavimento, sala, 1 quarto, cozinha e banheiro",
         "Baixo"
        ],
        [
         "40",
         "1567.63",
         "11",
         "Rondônia",
         "202501",
         "EA.1-1Q.....30 Especificação tipo \"A\", 1 pavimento, sala, 1 quarto, cozinha e banheiro",
         "Mínimo"
        ],
        [
         "41",
         "0.0",
         "11",
         "Rondônia",
         "202501",
         "EB.1-1Q.....32 Especificação tipo \"B\", 1 pavimento, sala, 1 quarto, cozinha e banheiro",
         "Alto"
        ],
        [
         "42",
         "0.0",
         "11",
         "Rondônia",
         "202501",
         "EB.1-1Q.....32 Especificação tipo \"B\", 1 pavimento, sala, 1 quarto, cozinha e banheiro",
         "Normal"
        ],
        [
         "43",
         "1816.51",
         "11",
         "Rondônia",
         "202501",
         "EB.1-1Q.....32 Especificação tipo \"B\", 1 pavimento, sala, 1 quarto, cozinha e banheiro",
         "Baixo"
        ],
        [
         "44",
         "1596.93",
         "11",
         "Rondônia",
         "202501",
         "EB.1-1Q.....32 Especificação tipo \"B\", 1 pavimento, sala, 1 quarto, cozinha e banheiro",
         "Mínimo"
        ],
        [
         "45",
         "0.0",
         "11",
         "Rondônia",
         "202501",
         "EA.2-2Q.....38 Especificação tipo \"A\", 1 pavimento, sala, 2 quartos, cozinha e banheiro",
         "Alto"
        ],
        [
         "46",
         "0.0",
         "11",
         "Rondônia",
         "202501",
         "EA.2-2Q.....38 Especificação tipo \"A\", 1 pavimento, sala, 2 quartos, cozinha e banheiro",
         "Normal"
        ],
        [
         "47",
         "1607.42",
         "11",
         "Rondônia",
         "202501",
         "EA.2-2Q.....38 Especificação tipo \"A\", 1 pavimento, sala, 2 quartos, cozinha e banheiro",
         "Baixo"
        ],
        [
         "48",
         "1401.86",
         "11",
         "Rondônia",
         "202501",
         "EA.2-2Q.....38 Especificação tipo \"A\", 1 pavimento, sala, 2 quartos, cozinha e banheiro",
         "Mínimo"
        ],
        [
         "49",
         "0.0",
         "11",
         "Rondônia",
         "202501",
         "EB.1-2Q.....39 Especificação tipo \"B\", 1 pavimento, sala, 2 quartos, cozinha e banheiro",
         "Alto"
        ],
        [
         "50",
         "0.0",
         "11",
         "Rondônia",
         "202501",
         "EB.1-2Q.....39 Especificação tipo \"B\", 1 pavimento, sala, 2 quartos, cozinha e banheiro",
         "Normal"
        ]
       ],
       "shape": {
        "columns": 6,
        "rows": 16848
       }
      },
      "text/html": [
       "<div>\n",
       "<style scoped>\n",
       "    .dataframe tbody tr th:only-of-type {\n",
       "        vertical-align: middle;\n",
       "    }\n",
       "\n",
       "    .dataframe tbody tr th {\n",
       "        vertical-align: top;\n",
       "    }\n",
       "\n",
       "    .dataframe thead th {\n",
       "        text-align: right;\n",
       "    }\n",
       "</style>\n",
       "<table border=\"1\" class=\"dataframe\">\n",
       "  <thead>\n",
       "    <tr style=\"text-align: right;\">\n",
       "      <th></th>\n",
       "      <th>valor</th>\n",
       "      <th>unidade_da_federacao_codigo</th>\n",
       "      <th>unidade_da_federacao</th>\n",
       "      <th>periodo</th>\n",
       "      <th>tipo_de_projeto</th>\n",
       "      <th>padrao_de_acabamento</th>\n",
       "    </tr>\n",
       "    <tr>\n",
       "      <th>index</th>\n",
       "      <th></th>\n",
       "      <th></th>\n",
       "      <th></th>\n",
       "      <th></th>\n",
       "      <th></th>\n",
       "      <th></th>\n",
       "    </tr>\n",
       "  </thead>\n",
       "  <tbody>\n",
       "    <tr>\n",
       "      <th>1</th>\n",
       "      <td>0.00</td>\n",
       "      <td>11</td>\n",
       "      <td>Rondônia</td>\n",
       "      <td>202501</td>\n",
       "      <td>CP.1-2Q.....46 Casa popular, 1 pavimento, varanda, sala, 2 quartos, circulaç...</td>\n",
       "      <td>Alto</td>\n",
       "    </tr>\n",
       "    <tr>\n",
       "      <th>2</th>\n",
       "      <td>2009.92</td>\n",
       "      <td>11</td>\n",
       "      <td>Rondônia</td>\n",
       "      <td>202501</td>\n",
       "      <td>CP.1-2Q.....46 Casa popular, 1 pavimento, varanda, sala, 2 quartos, circulaç...</td>\n",
       "      <td>Normal</td>\n",
       "    </tr>\n",
       "    <tr>\n",
       "      <th>3</th>\n",
       "      <td>1413.30</td>\n",
       "      <td>11</td>\n",
       "      <td>Rondônia</td>\n",
       "      <td>202501</td>\n",
       "      <td>CP.1-2Q.....46 Casa popular, 1 pavimento, varanda, sala, 2 quartos, circulaç...</td>\n",
       "      <td>Baixo</td>\n",
       "    </tr>\n",
       "    <tr>\n",
       "      <th>4</th>\n",
       "      <td>1215.72</td>\n",
       "      <td>11</td>\n",
       "      <td>Rondônia</td>\n",
       "      <td>202501</td>\n",
       "      <td>CP.1-2Q.....46 Casa popular, 1 pavimento, varanda, sala, 2 quartos, circulaç...</td>\n",
       "      <td>Mínimo</td>\n",
       "    </tr>\n",
       "    <tr>\n",
       "      <th>5</th>\n",
       "      <td>0.00</td>\n",
       "      <td>11</td>\n",
       "      <td>Rondônia</td>\n",
       "      <td>202501</td>\n",
       "      <td>CP.1-2Q.....40 Casa popular, 1 pavimento, sala, 2 quartos, circulação, banhe...</td>\n",
       "      <td>Alto</td>\n",
       "    </tr>\n",
       "    <tr>\n",
       "      <th>...</th>\n",
       "      <td>...</td>\n",
       "      <td>...</td>\n",
       "      <td>...</td>\n",
       "      <td>...</td>\n",
       "      <td>...</td>\n",
       "      <td>...</td>\n",
       "    </tr>\n",
       "    <tr>\n",
       "      <th>16844</th>\n",
       "      <td>1100.61</td>\n",
       "      <td>53</td>\n",
       "      <td>Distrito Federal</td>\n",
       "      <td>202504</td>\n",
       "      <td>CB-MMO......31 Projeto-tipo cesta básica, materiais e mão-de-obra, sala, qua...</td>\n",
       "      <td>Mínimo</td>\n",
       "    </tr>\n",
       "    <tr>\n",
       "      <th>16845</th>\n",
       "      <td>0.00</td>\n",
       "      <td>53</td>\n",
       "      <td>Distrito Federal</td>\n",
       "      <td>202504</td>\n",
       "      <td>CB-MMO......23 Projeto-tipo cesta básica, materiais e mão-de-obra, sala, cir...</td>\n",
       "      <td>Alto</td>\n",
       "    </tr>\n",
       "    <tr>\n",
       "      <th>16846</th>\n",
       "      <td>0.00</td>\n",
       "      <td>53</td>\n",
       "      <td>Distrito Federal</td>\n",
       "      <td>202504</td>\n",
       "      <td>CB-MMO......23 Projeto-tipo cesta básica, materiais e mão-de-obra, sala, cir...</td>\n",
       "      <td>Normal</td>\n",
       "    </tr>\n",
       "    <tr>\n",
       "      <th>16847</th>\n",
       "      <td>0.00</td>\n",
       "      <td>53</td>\n",
       "      <td>Distrito Federal</td>\n",
       "      <td>202504</td>\n",
       "      <td>CB-MMO......23 Projeto-tipo cesta básica, materiais e mão-de-obra, sala, cir...</td>\n",
       "      <td>Baixo</td>\n",
       "    </tr>\n",
       "    <tr>\n",
       "      <th>16848</th>\n",
       "      <td>1257.95</td>\n",
       "      <td>53</td>\n",
       "      <td>Distrito Federal</td>\n",
       "      <td>202504</td>\n",
       "      <td>CB-MMO......23 Projeto-tipo cesta básica, materiais e mão-de-obra, sala, cir...</td>\n",
       "      <td>Mínimo</td>\n",
       "    </tr>\n",
       "  </tbody>\n",
       "</table>\n",
       "<p>16848 rows × 6 columns</p>\n",
       "</div>"
      ],
      "text/plain": [
       "         valor  unidade_da_federacao_codigo unidade_da_federacao  periodo  \\\n",
       "index                                                                       \n",
       "1         0.00                           11             Rondônia   202501   \n",
       "2      2009.92                           11             Rondônia   202501   \n",
       "3      1413.30                           11             Rondônia   202501   \n",
       "4      1215.72                           11             Rondônia   202501   \n",
       "5         0.00                           11             Rondônia   202501   \n",
       "...        ...                          ...                  ...      ...   \n",
       "16844  1100.61                           53     Distrito Federal   202504   \n",
       "16845     0.00                           53     Distrito Federal   202504   \n",
       "16846     0.00                           53     Distrito Federal   202504   \n",
       "16847     0.00                           53     Distrito Federal   202504   \n",
       "16848  1257.95                           53     Distrito Federal   202504   \n",
       "\n",
       "                                                                       tipo_de_projeto  \\\n",
       "index                                                                                    \n",
       "1      CP.1-2Q.....46 Casa popular, 1 pavimento, varanda, sala, 2 quartos, circulaç...   \n",
       "2      CP.1-2Q.....46 Casa popular, 1 pavimento, varanda, sala, 2 quartos, circulaç...   \n",
       "3      CP.1-2Q.....46 Casa popular, 1 pavimento, varanda, sala, 2 quartos, circulaç...   \n",
       "4      CP.1-2Q.....46 Casa popular, 1 pavimento, varanda, sala, 2 quartos, circulaç...   \n",
       "5      CP.1-2Q.....40 Casa popular, 1 pavimento, sala, 2 quartos, circulação, banhe...   \n",
       "...                                                                                ...   \n",
       "16844  CB-MMO......31 Projeto-tipo cesta básica, materiais e mão-de-obra, sala, qua...   \n",
       "16845  CB-MMO......23 Projeto-tipo cesta básica, materiais e mão-de-obra, sala, cir...   \n",
       "16846  CB-MMO......23 Projeto-tipo cesta básica, materiais e mão-de-obra, sala, cir...   \n",
       "16847  CB-MMO......23 Projeto-tipo cesta básica, materiais e mão-de-obra, sala, cir...   \n",
       "16848  CB-MMO......23 Projeto-tipo cesta básica, materiais e mão-de-obra, sala, cir...   \n",
       "\n",
       "      padrao_de_acabamento  \n",
       "index                       \n",
       "1                     Alto  \n",
       "2                   Normal  \n",
       "3                    Baixo  \n",
       "4                   Mínimo  \n",
       "5                     Alto  \n",
       "...                    ...  \n",
       "16844               Mínimo  \n",
       "16845                 Alto  \n",
       "16846               Normal  \n",
       "16847                Baixo  \n",
       "16848               Mínimo  \n",
       "\n",
       "[16848 rows x 6 columns]"
      ]
     },
     "execution_count": 824,
     "metadata": {},
     "output_type": "execute_result"
    }
   ],
   "source": [
    "df_valor_transformado = df_colunas_removidas\n",
    "df_valor_transformado['valor'] = df_valor_transformado['valor'].replace('-', 0)\n",
    "df_valor_transformado['valor'] = df_valor_transformado['valor'].astype(float)\n",
    "# campos que continham '-' foram trocados por 0\n",
    "df_valor_transformado"
   ]
  },
  {
   "cell_type": "markdown",
   "id": "a6498649",
   "metadata": {},
   "source": [
    "Transformando a coluna unidade_da_federacao_codigo: requisitos -> valores inteiros, verificar se existe NaN ou ausentes"
   ]
  },
  {
   "cell_type": "code",
   "execution_count": 825,
   "id": "dd5c77bf",
   "metadata": {},
   "outputs": [
    {
     "name": "stdout",
     "output_type": "stream",
     "text": [
      "há 27 unicos, cada um representando um estado.\n"
     ]
    }
   ],
   "source": [
    "df_valor_transformado['unidade_da_federacao_codigo'].unique()\n",
    "print(f'há {len(df_valor_transformado['unidade_da_federacao_codigo'].unique())} unicos, cada um representando um estado.')"
   ]
  },
  {
   "cell_type": "code",
   "execution_count": 826,
   "id": "54a20179",
   "metadata": {},
   "outputs": [
    {
     "data": {
      "text/plain": [
       "np.int64(0)"
      ]
     },
     "execution_count": 826,
     "metadata": {},
     "output_type": "execute_result"
    }
   ],
   "source": [
    "df_valor_transformado['unidade_da_federacao_codigo'].isna().sum()\n",
    "# Retorno: np.int64(0), logo, não há valores ausentes ou nulos"
   ]
  },
  {
   "cell_type": "code",
   "execution_count": 827,
   "id": "4b169201",
   "metadata": {},
   "outputs": [
    {
     "data": {
      "text/plain": [
       "dtype('int64')"
      ]
     },
     "execution_count": 827,
     "metadata": {},
     "output_type": "execute_result"
    }
   ],
   "source": [
    "df_valor_transformado['unidade_da_federacao_codigo'].dtype\n",
    "#retorno: dtype('int64'), esta vindo da maneira que deveria"
   ]
  },
  {
   "cell_type": "markdown",
   "id": "57dc010f",
   "metadata": {},
   "source": [
    "Transformando a coluna unidade_da_federacao: requisitos -> valores em string, verificar se existe NaN ou ausentes e a primeira letra da palavra tem que vir maiuscula"
   ]
  },
  {
   "cell_type": "code",
   "execution_count": 828,
   "id": "26ee1d2d",
   "metadata": {},
   "outputs": [],
   "source": [
    "df_unidade_da_federacao_tratado = df_valor_transformado"
   ]
  },
  {
   "cell_type": "code",
   "execution_count": 829,
   "id": "354eb632",
   "metadata": {},
   "outputs": [
    {
     "data": {
      "text/plain": [
       "np.int64(0)"
      ]
     },
     "execution_count": 829,
     "metadata": {},
     "output_type": "execute_result"
    }
   ],
   "source": [
    "# Verificar valores nulos\n",
    "df_unidade_da_federacao_tratado['unidade_da_federacao'].isna().sum()\n",
    "#existem 0 valores nulos"
   ]
  },
  {
   "cell_type": "code",
   "execution_count": 830,
   "id": "6e38b7b4",
   "metadata": {},
   "outputs": [],
   "source": [
    "# Fazendo com que cada palavra venha com a primeira letra maiuscula\n",
    "df_unidade_da_federacao_tratado['unidade_da_federacao'] = df_unidade_da_federacao_tratado['unidade_da_federacao'].str.title()"
   ]
  },
  {
   "cell_type": "code",
   "execution_count": 831,
   "id": "825017b8",
   "metadata": {},
   "outputs": [
    {
     "data": {
      "text/plain": [
       "CategoricalDtype(categories=['Acre', 'Alagoas', 'Amapá', 'Amazonas', 'Bahia', 'Ceará',\n",
       "                  'Distrito Federal', 'Espírito Santo', 'Goiás', 'Maranhão',\n",
       "                  'Mato Grosso', 'Mato Grosso Do Sul', 'Minas Gerais',\n",
       "                  'Paraná', 'Paraíba', 'Pará', 'Pernambuco', 'Piauí',\n",
       "                  'Rio De Janeiro', 'Rio Grande Do Norte', 'Rio Grande Do Sul',\n",
       "                  'Rondônia', 'Roraima', 'Santa Catarina', 'Sergipe',\n",
       "                  'São Paulo', 'Tocantins'],\n",
       ", ordered=False, categories_dtype=object)"
      ]
     },
     "execution_count": 831,
     "metadata": {},
     "output_type": "execute_result"
    }
   ],
   "source": [
    "#verificando o tipo\n",
    "df_unidade_da_federacao_tratado['unidade_da_federacao'].dtype\n",
    "# retorno 'O' de objeto, o correto é categoric\n",
    "df_unidade_da_federacao_tratado['unidade_da_federacao'] = pd.Categorical(df_unidade_da_federacao_tratado['unidade_da_federacao'])\n",
    "df_unidade_da_federacao_tratado['unidade_da_federacao'].dtype"
   ]
  },
  {
   "cell_type": "markdown",
   "id": "dd2a9462",
   "metadata": {},
   "source": [
    "Transformando periodo, é necessário que venha dia, ou seja 'dd,mm,yyyy' e tem que estar no formatao datetime, evitar valores ausentes"
   ]
  },
  {
   "cell_type": "code",
   "execution_count": 832,
   "id": "7bb355cd",
   "metadata": {},
   "outputs": [],
   "source": [
    "df_periodo_tratado = df_unidade_da_federacao_tratado"
   ]
  },
  {
   "cell_type": "code",
   "execution_count": 833,
   "id": "367cc016",
   "metadata": {},
   "outputs": [
    {
     "data": {
      "text/plain": [
       "np.int64(0)"
      ]
     },
     "execution_count": 833,
     "metadata": {},
     "output_type": "execute_result"
    }
   ],
   "source": [
    "df_periodo_tratado['periodo'].isnull().sum()\n",
    "# não há valores nulos"
   ]
  },
  {
   "cell_type": "code",
   "execution_count": 834,
   "id": "bc1a1098",
   "metadata": {},
   "outputs": [
    {
     "data": {
      "text/plain": [
       "dtype('int64')"
      ]
     },
     "execution_count": 834,
     "metadata": {},
     "output_type": "execute_result"
    }
   ],
   "source": [
    "df_periodo_tratado['periodo'].dtype\n",
    "#veio do tipo inteiro, devemos trasnfomar em datetime"
   ]
  },
  {
   "cell_type": "code",
   "execution_count": 835,
   "id": "d2789e6f",
   "metadata": {},
   "outputs": [
    {
     "name": "stdout",
     "output_type": "stream",
     "text": [
      "2025 <- ano\n",
      "01 <- mes\n"
     ]
    }
   ],
   "source": [
    "df_periodo_tratado['periodo'] = df_periodo_tratado['periodo'].astype(str).str.zfill(6) # primeiro, temos que transformar em string e garantir que por padrao venha 6 valores\n",
    "df_periodo_tratado['ano'] = df_periodo_tratado['periodo'].str[:4]\n",
    "print(df_periodo_tratado['ano'].iloc[1], '<- ano')\n",
    "df_periodo_tratado['mes'] = df_periodo_tratado['periodo'].str[4:6]\n",
    "print(df_periodo_tratado['mes'].iloc[1], '<- mes')\n",
    "\n",
    "\n"
   ]
  },
  {
   "cell_type": "code",
   "execution_count": 836,
   "id": "27a2b015",
   "metadata": {},
   "outputs": [],
   "source": [
    "df_periodo_tratado['periodo'] = '01/' + df_periodo_tratado['mes'] + '/'+ df_periodo_tratado['ano']\n",
    "df_periodo_tratado['periodo'].unique() # retorno: (['01/01/2025', '01/02/2025', '01/03/2025', '01/04/2025'],  dtype=object)\n",
    "\n",
    "#deletando colunas que não serão utilizadas\n",
    "del df_periodo_tratado['mes']\n",
    "del df_periodo_tratado['ano']"
   ]
  },
  {
   "cell_type": "markdown",
   "id": "658f1586",
   "metadata": {},
   "source": [
    "Transformar em datetime a coluna periodo"
   ]
  },
  {
   "cell_type": "code",
   "execution_count": 837,
   "id": "aae57913",
   "metadata": {},
   "outputs": [
    {
     "data": {
      "application/vnd.microsoft.datawrangler.viewer.v0+json": {
       "columns": [
        {
         "name": "index",
         "rawType": "int64",
         "type": "integer"
        },
        {
         "name": "periodo",
         "rawType": "datetime64[ns, UTC]",
         "type": "unknown"
        }
       ],
       "ref": "fc004277-710c-4a90-a7ba-1e454c51999f",
       "rows": [
        [
         "1",
         "2025-01-01 00:00:00+00:00"
        ],
        [
         "2",
         "2025-01-01 00:00:00+00:00"
        ],
        [
         "3",
         "2025-01-01 00:00:00+00:00"
        ],
        [
         "4",
         "2025-01-01 00:00:00+00:00"
        ],
        [
         "5",
         "2025-01-01 00:00:00+00:00"
        ],
        [
         "6",
         "2025-01-01 00:00:00+00:00"
        ],
        [
         "7",
         "2025-01-01 00:00:00+00:00"
        ],
        [
         "8",
         "2025-01-01 00:00:00+00:00"
        ],
        [
         "9",
         "2025-01-01 00:00:00+00:00"
        ],
        [
         "10",
         "2025-01-01 00:00:00+00:00"
        ],
        [
         "11",
         "2025-01-01 00:00:00+00:00"
        ],
        [
         "12",
         "2025-01-01 00:00:00+00:00"
        ],
        [
         "13",
         "2025-01-01 00:00:00+00:00"
        ],
        [
         "14",
         "2025-01-01 00:00:00+00:00"
        ],
        [
         "15",
         "2025-01-01 00:00:00+00:00"
        ],
        [
         "16",
         "2025-01-01 00:00:00+00:00"
        ],
        [
         "17",
         "2025-01-01 00:00:00+00:00"
        ],
        [
         "18",
         "2025-01-01 00:00:00+00:00"
        ],
        [
         "19",
         "2025-01-01 00:00:00+00:00"
        ],
        [
         "20",
         "2025-01-01 00:00:00+00:00"
        ],
        [
         "21",
         "2025-01-01 00:00:00+00:00"
        ],
        [
         "22",
         "2025-01-01 00:00:00+00:00"
        ],
        [
         "23",
         "2025-01-01 00:00:00+00:00"
        ],
        [
         "24",
         "2025-01-01 00:00:00+00:00"
        ],
        [
         "25",
         "2025-01-01 00:00:00+00:00"
        ],
        [
         "26",
         "2025-01-01 00:00:00+00:00"
        ],
        [
         "27",
         "2025-01-01 00:00:00+00:00"
        ],
        [
         "28",
         "2025-01-01 00:00:00+00:00"
        ],
        [
         "29",
         "2025-01-01 00:00:00+00:00"
        ],
        [
         "30",
         "2025-01-01 00:00:00+00:00"
        ],
        [
         "31",
         "2025-01-01 00:00:00+00:00"
        ],
        [
         "32",
         "2025-01-01 00:00:00+00:00"
        ],
        [
         "33",
         "2025-01-01 00:00:00+00:00"
        ],
        [
         "34",
         "2025-01-01 00:00:00+00:00"
        ],
        [
         "35",
         "2025-01-01 00:00:00+00:00"
        ],
        [
         "36",
         "2025-01-01 00:00:00+00:00"
        ],
        [
         "37",
         "2025-01-01 00:00:00+00:00"
        ],
        [
         "38",
         "2025-01-01 00:00:00+00:00"
        ],
        [
         "39",
         "2025-01-01 00:00:00+00:00"
        ],
        [
         "40",
         "2025-01-01 00:00:00+00:00"
        ],
        [
         "41",
         "2025-01-01 00:00:00+00:00"
        ],
        [
         "42",
         "2025-01-01 00:00:00+00:00"
        ],
        [
         "43",
         "2025-01-01 00:00:00+00:00"
        ],
        [
         "44",
         "2025-01-01 00:00:00+00:00"
        ],
        [
         "45",
         "2025-01-01 00:00:00+00:00"
        ],
        [
         "46",
         "2025-01-01 00:00:00+00:00"
        ],
        [
         "47",
         "2025-01-01 00:00:00+00:00"
        ],
        [
         "48",
         "2025-01-01 00:00:00+00:00"
        ],
        [
         "49",
         "2025-01-01 00:00:00+00:00"
        ],
        [
         "50",
         "2025-01-01 00:00:00+00:00"
        ]
       ],
       "shape": {
        "columns": 1,
        "rows": 16848
       }
      },
      "text/plain": [
       "index\n",
       "1       2025-01-01 00:00:00+00:00\n",
       "2       2025-01-01 00:00:00+00:00\n",
       "3       2025-01-01 00:00:00+00:00\n",
       "4       2025-01-01 00:00:00+00:00\n",
       "5       2025-01-01 00:00:00+00:00\n",
       "                   ...           \n",
       "16844   2025-04-01 00:00:00+00:00\n",
       "16845   2025-04-01 00:00:00+00:00\n",
       "16846   2025-04-01 00:00:00+00:00\n",
       "16847   2025-04-01 00:00:00+00:00\n",
       "16848   2025-04-01 00:00:00+00:00\n",
       "Name: periodo, Length: 16848, dtype: datetime64[ns, UTC]"
      ]
     },
     "execution_count": 837,
     "metadata": {},
     "output_type": "execute_result"
    }
   ],
   "source": [
    "df_periodo_tratado['periodo'] = pd.to_datetime(df_periodo_tratado['periodo'], dayfirst=True, utc=True)\n",
    "df_periodo_tratado['periodo']"
   ]
  },
  {
   "cell_type": "code",
   "execution_count": 838,
   "id": "50102f57",
   "metadata": {},
   "outputs": [
    {
     "name": "stdout",
     "output_type": "stream",
     "text": [
      "<class 'pandas.core.frame.DataFrame'>\n",
      "Index: 16848 entries, 1 to 16848\n",
      "Data columns (total 6 columns):\n",
      " #   Column                       Non-Null Count  Dtype              \n",
      "---  ------                       --------------  -----              \n",
      " 0   valor                        16848 non-null  float64            \n",
      " 1   unidade_da_federacao_codigo  16848 non-null  int64              \n",
      " 2   unidade_da_federacao         16848 non-null  category           \n",
      " 3   periodo                      16848 non-null  datetime64[ns, UTC]\n",
      " 4   tipo_de_projeto              16848 non-null  object             \n",
      " 5   padrao_de_acabamento         16848 non-null  object             \n",
      "dtypes: category(1), datetime64[ns, UTC](1), float64(1), int64(1), object(2)\n",
      "memory usage: 807.5+ KB\n"
     ]
    }
   ],
   "source": [
    "df_periodo_tratado.info()\n",
    "# houve redução na memória!"
   ]
  },
  {
   "cell_type": "code",
   "execution_count": 839,
   "id": "1faeba82",
   "metadata": {},
   "outputs": [
    {
     "data": {
      "application/vnd.microsoft.datawrangler.viewer.v0+json": {
       "columns": [
        {
         "name": "index",
         "rawType": "int64",
         "type": "integer"
        },
        {
         "name": "valor",
         "rawType": "float64",
         "type": "float"
        },
        {
         "name": "unidade_da_federacao_codigo",
         "rawType": "int64",
         "type": "integer"
        },
        {
         "name": "unidade_da_federacao",
         "rawType": "category",
         "type": "unknown"
        },
        {
         "name": "periodo",
         "rawType": "datetime64[ns, UTC]",
         "type": "unknown"
        },
        {
         "name": "tipo_de_projeto",
         "rawType": "object",
         "type": "string"
        },
        {
         "name": "padrao_de_acabamento",
         "rawType": "object",
         "type": "string"
        }
       ],
       "ref": "c63aee61-0e99-4f0b-b633-42aeeb911057",
       "rows": [
        [
         "1",
         "0.0",
         "11",
         "Rondônia",
         "2025-01-01 00:00:00+00:00",
         "CP.1-2Q.....46 Casa popular, 1 pavimento, varanda, sala, 2 quartos, circulação, banheiro e cozinha",
         "Alto"
        ],
        [
         "2",
         "2009.92",
         "11",
         "Rondônia",
         "2025-01-01 00:00:00+00:00",
         "CP.1-2Q.....46 Casa popular, 1 pavimento, varanda, sala, 2 quartos, circulação, banheiro e cozinha",
         "Normal"
        ],
        [
         "3",
         "1413.3",
         "11",
         "Rondônia",
         "2025-01-01 00:00:00+00:00",
         "CP.1-2Q.....46 Casa popular, 1 pavimento, varanda, sala, 2 quartos, circulação, banheiro e cozinha",
         "Baixo"
        ],
        [
         "4",
         "1215.72",
         "11",
         "Rondônia",
         "2025-01-01 00:00:00+00:00",
         "CP.1-2Q.....46 Casa popular, 1 pavimento, varanda, sala, 2 quartos, circulação, banheiro e cozinha",
         "Mínimo"
        ],
        [
         "5",
         "0.0",
         "11",
         "Rondônia",
         "2025-01-01 00:00:00+00:00",
         "CP.1-2Q.....40 Casa popular, 1 pavimento, sala, 2 quartos, circulação, banheiro e cozinha",
         "Alto"
        ],
        [
         "6",
         "2254.8",
         "11",
         "Rondônia",
         "2025-01-01 00:00:00+00:00",
         "CP.1-2Q.....40 Casa popular, 1 pavimento, sala, 2 quartos, circulação, banheiro e cozinha",
         "Normal"
        ],
        [
         "7",
         "1581.98",
         "11",
         "Rondônia",
         "2025-01-01 00:00:00+00:00",
         "CP.1-2Q.....40 Casa popular, 1 pavimento, sala, 2 quartos, circulação, banheiro e cozinha",
         "Baixo"
        ],
        [
         "8",
         "1362.58",
         "11",
         "Rondônia",
         "2025-01-01 00:00:00+00:00",
         "CP.1-2Q.....40 Casa popular, 1 pavimento, sala, 2 quartos, circulação, banheiro e cozinha",
         "Mínimo"
        ],
        [
         "9",
         "0.0",
         "11",
         "Rondônia",
         "2025-01-01 00:00:00+00:00",
         "CR.1-2Q.....62 Casa residencial, 1 pavimento, varanda, sala,2 quartos, circulação, banheiro, cozinha, área de serviço, quarto e WC de empregada",
         "Alto"
        ],
        [
         "10",
         "2236.13",
         "11",
         "Rondônia",
         "2025-01-01 00:00:00+00:00",
         "CR.1-2Q.....62 Casa residencial, 1 pavimento, varanda, sala,2 quartos, circulação, banheiro, cozinha, área de serviço, quarto e WC de empregada",
         "Normal"
        ],
        [
         "11",
         "1615.48",
         "11",
         "Rondônia",
         "2025-01-01 00:00:00+00:00",
         "CR.1-2Q.....62 Casa residencial, 1 pavimento, varanda, sala,2 quartos, circulação, banheiro, cozinha, área de serviço, quarto e WC de empregada",
         "Baixo"
        ],
        [
         "12",
         "1412.19",
         "11",
         "Rondônia",
         "2025-01-01 00:00:00+00:00",
         "CR.1-2Q.....62 Casa residencial, 1 pavimento, varanda, sala,2 quartos, circulação, banheiro, cozinha, área de serviço, quarto e WC de empregada",
         "Mínimo"
        ],
        [
         "13",
         "2398.7",
         "11",
         "Rondônia",
         "2025-01-01 00:00:00+00:00",
         "CR.1-3Q....104 Casa residencial, 1 pavimento, varanda, sala,3 quartos, circulação, banheiro, lavabo, cozinha, área de serviço, quarto e WC de empregada",
         "Alto"
        ],
        [
         "14",
         "1911.39",
         "11",
         "Rondônia",
         "2025-01-01 00:00:00+00:00",
         "CR.1-3Q....104 Casa residencial, 1 pavimento, varanda, sala,3 quartos, circulação, banheiro, lavabo, cozinha, área de serviço, quarto e WC de empregada",
         "Normal"
        ],
        [
         "15",
         "1338.29",
         "11",
         "Rondônia",
         "2025-01-01 00:00:00+00:00",
         "CR.1-3Q....104 Casa residencial, 1 pavimento, varanda, sala,3 quartos, circulação, banheiro, lavabo, cozinha, área de serviço, quarto e WC de empregada",
         "Baixo"
        ],
        [
         "16",
         "0.0",
         "11",
         "Rondônia",
         "2025-01-01 00:00:00+00:00",
         "CR.1-3Q....104 Casa residencial, 1 pavimento, varanda, sala,3 quartos, circulação, banheiro, lavabo, cozinha, área de serviço, quarto e WC de empregada",
         "Mínimo"
        ],
        [
         "17",
         "2281.19",
         "11",
         "Rondônia",
         "2025-01-01 00:00:00+00:00",
         "CR.1-4Q....122 Casa residencial, 1 pavimento, varanda, sala,4 quartos, circulação, 2 banheiros, cozinha, área de serviço, quarto e WC de empregada",
         "Alto"
        ],
        [
         "18",
         "1821.15",
         "11",
         "Rondônia",
         "2025-01-01 00:00:00+00:00",
         "CR.1-4Q....122 Casa residencial, 1 pavimento, varanda, sala,4 quartos, circulação, 2 banheiros, cozinha, área de serviço, quarto e WC de empregada",
         "Normal"
        ],
        [
         "19",
         "1259.13",
         "11",
         "Rondônia",
         "2025-01-01 00:00:00+00:00",
         "CR.1-4Q....122 Casa residencial, 1 pavimento, varanda, sala,4 quartos, circulação, 2 banheiros, cozinha, área de serviço, quarto e WC de empregada",
         "Baixo"
        ],
        [
         "20",
         "0.0",
         "11",
         "Rondônia",
         "2025-01-01 00:00:00+00:00",
         "CR.1-4Q....122 Casa residencial, 1 pavimento, varanda, sala,4 quartos, circulação, 2 banheiros, cozinha, área de serviço, quarto e WC de empregada",
         "Mínimo"
        ],
        [
         "21",
         "0.0",
         "11",
         "Rondônia",
         "2025-01-01 00:00:00+00:00",
         "EA.1-US.....04 Especificação tipo \"A\", 1 pavimento, somente unidade sanitária",
         "Alto"
        ],
        [
         "22",
         "0.0",
         "11",
         "Rondônia",
         "2025-01-01 00:00:00+00:00",
         "EA.1-US.....04 Especificação tipo \"A\", 1 pavimento, somente unidade sanitária",
         "Normal"
        ],
        [
         "23",
         "0.0",
         "11",
         "Rondônia",
         "2025-01-01 00:00:00+00:00",
         "EA.1-US.....04 Especificação tipo \"A\", 1 pavimento, somente unidade sanitária",
         "Baixo"
        ],
        [
         "24",
         "2653.91",
         "11",
         "Rondônia",
         "2025-01-01 00:00:00+00:00",
         "EA.1-US.....04 Especificação tipo \"A\", 1 pavimento, somente unidade sanitária",
         "Mínimo"
        ],
        [
         "25",
         "0.0",
         "11",
         "Rondônia",
         "2025-01-01 00:00:00+00:00",
         "EB.1-US.....03 Especificação tipo \"B\", 1 pavimento, somente unidade sanitária",
         "Alto"
        ],
        [
         "26",
         "0.0",
         "11",
         "Rondônia",
         "2025-01-01 00:00:00+00:00",
         "EB.1-US.....03 Especificação tipo \"B\", 1 pavimento, somente unidade sanitária",
         "Normal"
        ],
        [
         "27",
         "0.0",
         "11",
         "Rondônia",
         "2025-01-01 00:00:00+00:00",
         "EB.1-US.....03 Especificação tipo \"B\", 1 pavimento, somente unidade sanitária",
         "Baixo"
        ],
        [
         "28",
         "3312.55",
         "11",
         "Rondônia",
         "2025-01-01 00:00:00+00:00",
         "EB.1-US.....03 Especificação tipo \"B\", 1 pavimento, somente unidade sanitária",
         "Mínimo"
        ],
        [
         "29",
         "0.0",
         "11",
         "Rondônia",
         "2025-01-01 00:00:00+00:00",
         "EA.1-0Q.....22 Especificação tipo \"A\", 1 pavimento, sala, cozinha e banheiro",
         "Alto"
        ],
        [
         "30",
         "0.0",
         "11",
         "Rondônia",
         "2025-01-01 00:00:00+00:00",
         "EA.1-0Q.....22 Especificação tipo \"A\", 1 pavimento, sala, cozinha e banheiro",
         "Normal"
        ],
        [
         "31",
         "1991.83",
         "11",
         "Rondônia",
         "2025-01-01 00:00:00+00:00",
         "EA.1-0Q.....22 Especificação tipo \"A\", 1 pavimento, sala, cozinha e banheiro",
         "Baixo"
        ],
        [
         "32",
         "1775.78",
         "11",
         "Rondônia",
         "2025-01-01 00:00:00+00:00",
         "EA.1-0Q.....22 Especificação tipo \"A\", 1 pavimento, sala, cozinha e banheiro",
         "Mínimo"
        ],
        [
         "33",
         "0.0",
         "11",
         "Rondônia",
         "2025-01-01 00:00:00+00:00",
         "EB.1-0Q.....22 Especificação tipo \"B\", 1 pavimento, sala, cozinha e banheiro",
         "Alto"
        ],
        [
         "34",
         "0.0",
         "11",
         "Rondônia",
         "2025-01-01 00:00:00+00:00",
         "EB.1-0Q.....22 Especificação tipo \"B\", 1 pavimento, sala, cozinha e banheiro",
         "Normal"
        ],
        [
         "35",
         "1975.55",
         "11",
         "Rondônia",
         "2025-01-01 00:00:00+00:00",
         "EB.1-0Q.....22 Especificação tipo \"B\", 1 pavimento, sala, cozinha e banheiro",
         "Baixo"
        ],
        [
         "36",
         "1757.27",
         "11",
         "Rondônia",
         "2025-01-01 00:00:00+00:00",
         "EB.1-0Q.....22 Especificação tipo \"B\", 1 pavimento, sala, cozinha e banheiro",
         "Mínimo"
        ],
        [
         "37",
         "0.0",
         "11",
         "Rondônia",
         "2025-01-01 00:00:00+00:00",
         "EA.1-1Q.....30 Especificação tipo \"A\", 1 pavimento, sala, 1 quarto, cozinha e banheiro",
         "Alto"
        ],
        [
         "38",
         "0.0",
         "11",
         "Rondônia",
         "2025-01-01 00:00:00+00:00",
         "EA.1-1Q.....30 Especificação tipo \"A\", 1 pavimento, sala, 1 quarto, cozinha e banheiro",
         "Normal"
        ],
        [
         "39",
         "1781.56",
         "11",
         "Rondônia",
         "2025-01-01 00:00:00+00:00",
         "EA.1-1Q.....30 Especificação tipo \"A\", 1 pavimento, sala, 1 quarto, cozinha e banheiro",
         "Baixo"
        ],
        [
         "40",
         "1567.63",
         "11",
         "Rondônia",
         "2025-01-01 00:00:00+00:00",
         "EA.1-1Q.....30 Especificação tipo \"A\", 1 pavimento, sala, 1 quarto, cozinha e banheiro",
         "Mínimo"
        ],
        [
         "41",
         "0.0",
         "11",
         "Rondônia",
         "2025-01-01 00:00:00+00:00",
         "EB.1-1Q.....32 Especificação tipo \"B\", 1 pavimento, sala, 1 quarto, cozinha e banheiro",
         "Alto"
        ],
        [
         "42",
         "0.0",
         "11",
         "Rondônia",
         "2025-01-01 00:00:00+00:00",
         "EB.1-1Q.....32 Especificação tipo \"B\", 1 pavimento, sala, 1 quarto, cozinha e banheiro",
         "Normal"
        ],
        [
         "43",
         "1816.51",
         "11",
         "Rondônia",
         "2025-01-01 00:00:00+00:00",
         "EB.1-1Q.....32 Especificação tipo \"B\", 1 pavimento, sala, 1 quarto, cozinha e banheiro",
         "Baixo"
        ],
        [
         "44",
         "1596.93",
         "11",
         "Rondônia",
         "2025-01-01 00:00:00+00:00",
         "EB.1-1Q.....32 Especificação tipo \"B\", 1 pavimento, sala, 1 quarto, cozinha e banheiro",
         "Mínimo"
        ],
        [
         "45",
         "0.0",
         "11",
         "Rondônia",
         "2025-01-01 00:00:00+00:00",
         "EA.2-2Q.....38 Especificação tipo \"A\", 1 pavimento, sala, 2 quartos, cozinha e banheiro",
         "Alto"
        ],
        [
         "46",
         "0.0",
         "11",
         "Rondônia",
         "2025-01-01 00:00:00+00:00",
         "EA.2-2Q.....38 Especificação tipo \"A\", 1 pavimento, sala, 2 quartos, cozinha e banheiro",
         "Normal"
        ],
        [
         "47",
         "1607.42",
         "11",
         "Rondônia",
         "2025-01-01 00:00:00+00:00",
         "EA.2-2Q.....38 Especificação tipo \"A\", 1 pavimento, sala, 2 quartos, cozinha e banheiro",
         "Baixo"
        ],
        [
         "48",
         "1401.86",
         "11",
         "Rondônia",
         "2025-01-01 00:00:00+00:00",
         "EA.2-2Q.....38 Especificação tipo \"A\", 1 pavimento, sala, 2 quartos, cozinha e banheiro",
         "Mínimo"
        ],
        [
         "49",
         "0.0",
         "11",
         "Rondônia",
         "2025-01-01 00:00:00+00:00",
         "EB.1-2Q.....39 Especificação tipo \"B\", 1 pavimento, sala, 2 quartos, cozinha e banheiro",
         "Alto"
        ],
        [
         "50",
         "0.0",
         "11",
         "Rondônia",
         "2025-01-01 00:00:00+00:00",
         "EB.1-2Q.....39 Especificação tipo \"B\", 1 pavimento, sala, 2 quartos, cozinha e banheiro",
         "Normal"
        ]
       ],
       "shape": {
        "columns": 6,
        "rows": 16848
       }
      },
      "text/html": [
       "<div>\n",
       "<style scoped>\n",
       "    .dataframe tbody tr th:only-of-type {\n",
       "        vertical-align: middle;\n",
       "    }\n",
       "\n",
       "    .dataframe tbody tr th {\n",
       "        vertical-align: top;\n",
       "    }\n",
       "\n",
       "    .dataframe thead th {\n",
       "        text-align: right;\n",
       "    }\n",
       "</style>\n",
       "<table border=\"1\" class=\"dataframe\">\n",
       "  <thead>\n",
       "    <tr style=\"text-align: right;\">\n",
       "      <th></th>\n",
       "      <th>valor</th>\n",
       "      <th>unidade_da_federacao_codigo</th>\n",
       "      <th>unidade_da_federacao</th>\n",
       "      <th>periodo</th>\n",
       "      <th>tipo_de_projeto</th>\n",
       "      <th>padrao_de_acabamento</th>\n",
       "    </tr>\n",
       "    <tr>\n",
       "      <th>index</th>\n",
       "      <th></th>\n",
       "      <th></th>\n",
       "      <th></th>\n",
       "      <th></th>\n",
       "      <th></th>\n",
       "      <th></th>\n",
       "    </tr>\n",
       "  </thead>\n",
       "  <tbody>\n",
       "    <tr>\n",
       "      <th>1</th>\n",
       "      <td>0.00</td>\n",
       "      <td>11</td>\n",
       "      <td>Rondônia</td>\n",
       "      <td>2025-01-01 00:00:00+00:00</td>\n",
       "      <td>CP.1-2Q.....46 Casa popular, 1 pavimento, varanda, sala, 2 quartos, circulaç...</td>\n",
       "      <td>Alto</td>\n",
       "    </tr>\n",
       "    <tr>\n",
       "      <th>2</th>\n",
       "      <td>2009.92</td>\n",
       "      <td>11</td>\n",
       "      <td>Rondônia</td>\n",
       "      <td>2025-01-01 00:00:00+00:00</td>\n",
       "      <td>CP.1-2Q.....46 Casa popular, 1 pavimento, varanda, sala, 2 quartos, circulaç...</td>\n",
       "      <td>Normal</td>\n",
       "    </tr>\n",
       "    <tr>\n",
       "      <th>3</th>\n",
       "      <td>1413.30</td>\n",
       "      <td>11</td>\n",
       "      <td>Rondônia</td>\n",
       "      <td>2025-01-01 00:00:00+00:00</td>\n",
       "      <td>CP.1-2Q.....46 Casa popular, 1 pavimento, varanda, sala, 2 quartos, circulaç...</td>\n",
       "      <td>Baixo</td>\n",
       "    </tr>\n",
       "    <tr>\n",
       "      <th>4</th>\n",
       "      <td>1215.72</td>\n",
       "      <td>11</td>\n",
       "      <td>Rondônia</td>\n",
       "      <td>2025-01-01 00:00:00+00:00</td>\n",
       "      <td>CP.1-2Q.....46 Casa popular, 1 pavimento, varanda, sala, 2 quartos, circulaç...</td>\n",
       "      <td>Mínimo</td>\n",
       "    </tr>\n",
       "    <tr>\n",
       "      <th>5</th>\n",
       "      <td>0.00</td>\n",
       "      <td>11</td>\n",
       "      <td>Rondônia</td>\n",
       "      <td>2025-01-01 00:00:00+00:00</td>\n",
       "      <td>CP.1-2Q.....40 Casa popular, 1 pavimento, sala, 2 quartos, circulação, banhe...</td>\n",
       "      <td>Alto</td>\n",
       "    </tr>\n",
       "    <tr>\n",
       "      <th>...</th>\n",
       "      <td>...</td>\n",
       "      <td>...</td>\n",
       "      <td>...</td>\n",
       "      <td>...</td>\n",
       "      <td>...</td>\n",
       "      <td>...</td>\n",
       "    </tr>\n",
       "    <tr>\n",
       "      <th>16844</th>\n",
       "      <td>1100.61</td>\n",
       "      <td>53</td>\n",
       "      <td>Distrito Federal</td>\n",
       "      <td>2025-04-01 00:00:00+00:00</td>\n",
       "      <td>CB-MMO......31 Projeto-tipo cesta básica, materiais e mão-de-obra, sala, qua...</td>\n",
       "      <td>Mínimo</td>\n",
       "    </tr>\n",
       "    <tr>\n",
       "      <th>16845</th>\n",
       "      <td>0.00</td>\n",
       "      <td>53</td>\n",
       "      <td>Distrito Federal</td>\n",
       "      <td>2025-04-01 00:00:00+00:00</td>\n",
       "      <td>CB-MMO......23 Projeto-tipo cesta básica, materiais e mão-de-obra, sala, cir...</td>\n",
       "      <td>Alto</td>\n",
       "    </tr>\n",
       "    <tr>\n",
       "      <th>16846</th>\n",
       "      <td>0.00</td>\n",
       "      <td>53</td>\n",
       "      <td>Distrito Federal</td>\n",
       "      <td>2025-04-01 00:00:00+00:00</td>\n",
       "      <td>CB-MMO......23 Projeto-tipo cesta básica, materiais e mão-de-obra, sala, cir...</td>\n",
       "      <td>Normal</td>\n",
       "    </tr>\n",
       "    <tr>\n",
       "      <th>16847</th>\n",
       "      <td>0.00</td>\n",
       "      <td>53</td>\n",
       "      <td>Distrito Federal</td>\n",
       "      <td>2025-04-01 00:00:00+00:00</td>\n",
       "      <td>CB-MMO......23 Projeto-tipo cesta básica, materiais e mão-de-obra, sala, cir...</td>\n",
       "      <td>Baixo</td>\n",
       "    </tr>\n",
       "    <tr>\n",
       "      <th>16848</th>\n",
       "      <td>1257.95</td>\n",
       "      <td>53</td>\n",
       "      <td>Distrito Federal</td>\n",
       "      <td>2025-04-01 00:00:00+00:00</td>\n",
       "      <td>CB-MMO......23 Projeto-tipo cesta básica, materiais e mão-de-obra, sala, cir...</td>\n",
       "      <td>Mínimo</td>\n",
       "    </tr>\n",
       "  </tbody>\n",
       "</table>\n",
       "<p>16848 rows × 6 columns</p>\n",
       "</div>"
      ],
      "text/plain": [
       "         valor  unidade_da_federacao_codigo unidade_da_federacao  \\\n",
       "index                                                              \n",
       "1         0.00                           11             Rondônia   \n",
       "2      2009.92                           11             Rondônia   \n",
       "3      1413.30                           11             Rondônia   \n",
       "4      1215.72                           11             Rondônia   \n",
       "5         0.00                           11             Rondônia   \n",
       "...        ...                          ...                  ...   \n",
       "16844  1100.61                           53     Distrito Federal   \n",
       "16845     0.00                           53     Distrito Federal   \n",
       "16846     0.00                           53     Distrito Federal   \n",
       "16847     0.00                           53     Distrito Federal   \n",
       "16848  1257.95                           53     Distrito Federal   \n",
       "\n",
       "                        periodo  \\\n",
       "index                             \n",
       "1     2025-01-01 00:00:00+00:00   \n",
       "2     2025-01-01 00:00:00+00:00   \n",
       "3     2025-01-01 00:00:00+00:00   \n",
       "4     2025-01-01 00:00:00+00:00   \n",
       "5     2025-01-01 00:00:00+00:00   \n",
       "...                         ...   \n",
       "16844 2025-04-01 00:00:00+00:00   \n",
       "16845 2025-04-01 00:00:00+00:00   \n",
       "16846 2025-04-01 00:00:00+00:00   \n",
       "16847 2025-04-01 00:00:00+00:00   \n",
       "16848 2025-04-01 00:00:00+00:00   \n",
       "\n",
       "                                                                       tipo_de_projeto  \\\n",
       "index                                                                                    \n",
       "1      CP.1-2Q.....46 Casa popular, 1 pavimento, varanda, sala, 2 quartos, circulaç...   \n",
       "2      CP.1-2Q.....46 Casa popular, 1 pavimento, varanda, sala, 2 quartos, circulaç...   \n",
       "3      CP.1-2Q.....46 Casa popular, 1 pavimento, varanda, sala, 2 quartos, circulaç...   \n",
       "4      CP.1-2Q.....46 Casa popular, 1 pavimento, varanda, sala, 2 quartos, circulaç...   \n",
       "5      CP.1-2Q.....40 Casa popular, 1 pavimento, sala, 2 quartos, circulação, banhe...   \n",
       "...                                                                                ...   \n",
       "16844  CB-MMO......31 Projeto-tipo cesta básica, materiais e mão-de-obra, sala, qua...   \n",
       "16845  CB-MMO......23 Projeto-tipo cesta básica, materiais e mão-de-obra, sala, cir...   \n",
       "16846  CB-MMO......23 Projeto-tipo cesta básica, materiais e mão-de-obra, sala, cir...   \n",
       "16847  CB-MMO......23 Projeto-tipo cesta básica, materiais e mão-de-obra, sala, cir...   \n",
       "16848  CB-MMO......23 Projeto-tipo cesta básica, materiais e mão-de-obra, sala, cir...   \n",
       "\n",
       "      padrao_de_acabamento  \n",
       "index                       \n",
       "1                     Alto  \n",
       "2                   Normal  \n",
       "3                    Baixo  \n",
       "4                   Mínimo  \n",
       "5                     Alto  \n",
       "...                    ...  \n",
       "16844               Mínimo  \n",
       "16845                 Alto  \n",
       "16846               Normal  \n",
       "16847                Baixo  \n",
       "16848               Mínimo  \n",
       "\n",
       "[16848 rows x 6 columns]"
      ]
     },
     "execution_count": 839,
     "metadata": {},
     "output_type": "execute_result"
    }
   ],
   "source": [
    "df_periodo_tratado"
   ]
  },
  {
   "cell_type": "markdown",
   "id": "1b44dd2f",
   "metadata": {},
   "source": [
    "Tratando coluna tipo_de_projeto -> Precisam estar no tipo categorico, irei quebrar a coluna, pois, tem valores irrelevantes e verificar se tem null"
   ]
  },
  {
   "cell_type": "code",
   "execution_count": 840,
   "id": "b25b1ab1",
   "metadata": {},
   "outputs": [],
   "source": [
    "df_tipo_de_projeto_tratar = df_periodo_tratado\n",
    "df_tipo_de_projeto_tratar['tipo_de_projeto'] = df_tipo_de_projeto_tratar['tipo_de_projeto'].astype(str) # transformando em str para remover alguns indices"
   ]
  },
  {
   "cell_type": "code",
   "execution_count": 841,
   "id": "0dcc4883",
   "metadata": {},
   "outputs": [
    {
     "data": {
      "text/plain": [
       "np.int64(0)"
      ]
     },
     "execution_count": 841,
     "metadata": {},
     "output_type": "execute_result"
    }
   ],
   "source": [
    "df_tipo_de_projeto_tratar['tipo_de_projeto'].isna().sum()\n",
    "# há 0 valores nulos"
   ]
  },
  {
   "cell_type": "code",
   "execution_count": 842,
   "id": "c414dfb6",
   "metadata": {},
   "outputs": [],
   "source": [
    "df_tipo_de_projeto_tratar['tipo_de_projeto'] = df_tipo_de_projeto_tratar['tipo_de_projeto'].str[14:]\n",
    "#removi valores dos registros"
   ]
  },
  {
   "cell_type": "code",
   "execution_count": 843,
   "id": "95d4dd7c",
   "metadata": {},
   "outputs": [
    {
     "data": {
      "application/vnd.microsoft.datawrangler.viewer.v0+json": {
       "columns": [
        {
         "name": "index",
         "rawType": "int64",
         "type": "integer"
        },
        {
         "name": "valor",
         "rawType": "float64",
         "type": "float"
        },
        {
         "name": "unidade_da_federacao_codigo",
         "rawType": "int64",
         "type": "integer"
        },
        {
         "name": "unidade_da_federacao",
         "rawType": "category",
         "type": "unknown"
        },
        {
         "name": "periodo",
         "rawType": "datetime64[ns, UTC]",
         "type": "unknown"
        },
        {
         "name": "tipo_de_projeto",
         "rawType": "category",
         "type": "unknown"
        },
        {
         "name": "padrao_de_acabamento",
         "rawType": "object",
         "type": "string"
        }
       ],
       "ref": "cb383aa6-77f9-4da9-8929-04bd7f0648cc",
       "rows": [
        [
         "1",
         "0.0",
         "11",
         "Rondônia",
         "2025-01-01 00:00:00+00:00",
         " Casa popular, 1 pavimento, varanda, sala, 2 quartos, circulação, banheiro e cozinha",
         "Alto"
        ],
        [
         "2",
         "2009.92",
         "11",
         "Rondônia",
         "2025-01-01 00:00:00+00:00",
         " Casa popular, 1 pavimento, varanda, sala, 2 quartos, circulação, banheiro e cozinha",
         "Normal"
        ],
        [
         "3",
         "1413.3",
         "11",
         "Rondônia",
         "2025-01-01 00:00:00+00:00",
         " Casa popular, 1 pavimento, varanda, sala, 2 quartos, circulação, banheiro e cozinha",
         "Baixo"
        ],
        [
         "4",
         "1215.72",
         "11",
         "Rondônia",
         "2025-01-01 00:00:00+00:00",
         " Casa popular, 1 pavimento, varanda, sala, 2 quartos, circulação, banheiro e cozinha",
         "Mínimo"
        ],
        [
         "5",
         "0.0",
         "11",
         "Rondônia",
         "2025-01-01 00:00:00+00:00",
         " Casa popular, 1 pavimento, sala, 2 quartos, circulação, banheiro e cozinha",
         "Alto"
        ],
        [
         "6",
         "2254.8",
         "11",
         "Rondônia",
         "2025-01-01 00:00:00+00:00",
         " Casa popular, 1 pavimento, sala, 2 quartos, circulação, banheiro e cozinha",
         "Normal"
        ],
        [
         "7",
         "1581.98",
         "11",
         "Rondônia",
         "2025-01-01 00:00:00+00:00",
         " Casa popular, 1 pavimento, sala, 2 quartos, circulação, banheiro e cozinha",
         "Baixo"
        ],
        [
         "8",
         "1362.58",
         "11",
         "Rondônia",
         "2025-01-01 00:00:00+00:00",
         " Casa popular, 1 pavimento, sala, 2 quartos, circulação, banheiro e cozinha",
         "Mínimo"
        ],
        [
         "9",
         "0.0",
         "11",
         "Rondônia",
         "2025-01-01 00:00:00+00:00",
         " Casa residencial, 1 pavimento, varanda, sala,2 quartos, circulação, banheiro, cozinha, área de serviço, quarto e WC de empregada",
         "Alto"
        ],
        [
         "10",
         "2236.13",
         "11",
         "Rondônia",
         "2025-01-01 00:00:00+00:00",
         " Casa residencial, 1 pavimento, varanda, sala,2 quartos, circulação, banheiro, cozinha, área de serviço, quarto e WC de empregada",
         "Normal"
        ],
        [
         "11",
         "1615.48",
         "11",
         "Rondônia",
         "2025-01-01 00:00:00+00:00",
         " Casa residencial, 1 pavimento, varanda, sala,2 quartos, circulação, banheiro, cozinha, área de serviço, quarto e WC de empregada",
         "Baixo"
        ],
        [
         "12",
         "1412.19",
         "11",
         "Rondônia",
         "2025-01-01 00:00:00+00:00",
         " Casa residencial, 1 pavimento, varanda, sala,2 quartos, circulação, banheiro, cozinha, área de serviço, quarto e WC de empregada",
         "Mínimo"
        ],
        [
         "13",
         "2398.7",
         "11",
         "Rondônia",
         "2025-01-01 00:00:00+00:00",
         " Casa residencial, 1 pavimento, varanda, sala,3 quartos, circulação, banheiro, lavabo, cozinha, área de serviço, quarto e WC de empregada",
         "Alto"
        ],
        [
         "14",
         "1911.39",
         "11",
         "Rondônia",
         "2025-01-01 00:00:00+00:00",
         " Casa residencial, 1 pavimento, varanda, sala,3 quartos, circulação, banheiro, lavabo, cozinha, área de serviço, quarto e WC de empregada",
         "Normal"
        ],
        [
         "15",
         "1338.29",
         "11",
         "Rondônia",
         "2025-01-01 00:00:00+00:00",
         " Casa residencial, 1 pavimento, varanda, sala,3 quartos, circulação, banheiro, lavabo, cozinha, área de serviço, quarto e WC de empregada",
         "Baixo"
        ],
        [
         "16",
         "0.0",
         "11",
         "Rondônia",
         "2025-01-01 00:00:00+00:00",
         " Casa residencial, 1 pavimento, varanda, sala,3 quartos, circulação, banheiro, lavabo, cozinha, área de serviço, quarto e WC de empregada",
         "Mínimo"
        ],
        [
         "17",
         "2281.19",
         "11",
         "Rondônia",
         "2025-01-01 00:00:00+00:00",
         " Casa residencial, 1 pavimento, varanda, sala,4 quartos, circulação, 2 banheiros, cozinha, área de serviço, quarto e WC de empregada",
         "Alto"
        ],
        [
         "18",
         "1821.15",
         "11",
         "Rondônia",
         "2025-01-01 00:00:00+00:00",
         " Casa residencial, 1 pavimento, varanda, sala,4 quartos, circulação, 2 banheiros, cozinha, área de serviço, quarto e WC de empregada",
         "Normal"
        ],
        [
         "19",
         "1259.13",
         "11",
         "Rondônia",
         "2025-01-01 00:00:00+00:00",
         " Casa residencial, 1 pavimento, varanda, sala,4 quartos, circulação, 2 banheiros, cozinha, área de serviço, quarto e WC de empregada",
         "Baixo"
        ],
        [
         "20",
         "0.0",
         "11",
         "Rondônia",
         "2025-01-01 00:00:00+00:00",
         " Casa residencial, 1 pavimento, varanda, sala,4 quartos, circulação, 2 banheiros, cozinha, área de serviço, quarto e WC de empregada",
         "Mínimo"
        ],
        [
         "21",
         "0.0",
         "11",
         "Rondônia",
         "2025-01-01 00:00:00+00:00",
         " Especificação tipo \"A\", 1 pavimento, somente unidade sanitária",
         "Alto"
        ],
        [
         "22",
         "0.0",
         "11",
         "Rondônia",
         "2025-01-01 00:00:00+00:00",
         " Especificação tipo \"A\", 1 pavimento, somente unidade sanitária",
         "Normal"
        ],
        [
         "23",
         "0.0",
         "11",
         "Rondônia",
         "2025-01-01 00:00:00+00:00",
         " Especificação tipo \"A\", 1 pavimento, somente unidade sanitária",
         "Baixo"
        ],
        [
         "24",
         "2653.91",
         "11",
         "Rondônia",
         "2025-01-01 00:00:00+00:00",
         " Especificação tipo \"A\", 1 pavimento, somente unidade sanitária",
         "Mínimo"
        ],
        [
         "25",
         "0.0",
         "11",
         "Rondônia",
         "2025-01-01 00:00:00+00:00",
         " Especificação tipo \"B\", 1 pavimento, somente unidade sanitária",
         "Alto"
        ],
        [
         "26",
         "0.0",
         "11",
         "Rondônia",
         "2025-01-01 00:00:00+00:00",
         " Especificação tipo \"B\", 1 pavimento, somente unidade sanitária",
         "Normal"
        ],
        [
         "27",
         "0.0",
         "11",
         "Rondônia",
         "2025-01-01 00:00:00+00:00",
         " Especificação tipo \"B\", 1 pavimento, somente unidade sanitária",
         "Baixo"
        ],
        [
         "28",
         "3312.55",
         "11",
         "Rondônia",
         "2025-01-01 00:00:00+00:00",
         " Especificação tipo \"B\", 1 pavimento, somente unidade sanitária",
         "Mínimo"
        ],
        [
         "29",
         "0.0",
         "11",
         "Rondônia",
         "2025-01-01 00:00:00+00:00",
         " Especificação tipo \"A\", 1 pavimento, sala, cozinha e banheiro",
         "Alto"
        ],
        [
         "30",
         "0.0",
         "11",
         "Rondônia",
         "2025-01-01 00:00:00+00:00",
         " Especificação tipo \"A\", 1 pavimento, sala, cozinha e banheiro",
         "Normal"
        ],
        [
         "31",
         "1991.83",
         "11",
         "Rondônia",
         "2025-01-01 00:00:00+00:00",
         " Especificação tipo \"A\", 1 pavimento, sala, cozinha e banheiro",
         "Baixo"
        ],
        [
         "32",
         "1775.78",
         "11",
         "Rondônia",
         "2025-01-01 00:00:00+00:00",
         " Especificação tipo \"A\", 1 pavimento, sala, cozinha e banheiro",
         "Mínimo"
        ],
        [
         "33",
         "0.0",
         "11",
         "Rondônia",
         "2025-01-01 00:00:00+00:00",
         " Especificação tipo \"B\", 1 pavimento, sala, cozinha e banheiro",
         "Alto"
        ],
        [
         "34",
         "0.0",
         "11",
         "Rondônia",
         "2025-01-01 00:00:00+00:00",
         " Especificação tipo \"B\", 1 pavimento, sala, cozinha e banheiro",
         "Normal"
        ],
        [
         "35",
         "1975.55",
         "11",
         "Rondônia",
         "2025-01-01 00:00:00+00:00",
         " Especificação tipo \"B\", 1 pavimento, sala, cozinha e banheiro",
         "Baixo"
        ],
        [
         "36",
         "1757.27",
         "11",
         "Rondônia",
         "2025-01-01 00:00:00+00:00",
         " Especificação tipo \"B\", 1 pavimento, sala, cozinha e banheiro",
         "Mínimo"
        ],
        [
         "37",
         "0.0",
         "11",
         "Rondônia",
         "2025-01-01 00:00:00+00:00",
         " Especificação tipo \"A\", 1 pavimento, sala, 1 quarto, cozinha e banheiro",
         "Alto"
        ],
        [
         "38",
         "0.0",
         "11",
         "Rondônia",
         "2025-01-01 00:00:00+00:00",
         " Especificação tipo \"A\", 1 pavimento, sala, 1 quarto, cozinha e banheiro",
         "Normal"
        ],
        [
         "39",
         "1781.56",
         "11",
         "Rondônia",
         "2025-01-01 00:00:00+00:00",
         " Especificação tipo \"A\", 1 pavimento, sala, 1 quarto, cozinha e banheiro",
         "Baixo"
        ],
        [
         "40",
         "1567.63",
         "11",
         "Rondônia",
         "2025-01-01 00:00:00+00:00",
         " Especificação tipo \"A\", 1 pavimento, sala, 1 quarto, cozinha e banheiro",
         "Mínimo"
        ],
        [
         "41",
         "0.0",
         "11",
         "Rondônia",
         "2025-01-01 00:00:00+00:00",
         " Especificação tipo \"B\", 1 pavimento, sala, 1 quarto, cozinha e banheiro",
         "Alto"
        ],
        [
         "42",
         "0.0",
         "11",
         "Rondônia",
         "2025-01-01 00:00:00+00:00",
         " Especificação tipo \"B\", 1 pavimento, sala, 1 quarto, cozinha e banheiro",
         "Normal"
        ],
        [
         "43",
         "1816.51",
         "11",
         "Rondônia",
         "2025-01-01 00:00:00+00:00",
         " Especificação tipo \"B\", 1 pavimento, sala, 1 quarto, cozinha e banheiro",
         "Baixo"
        ],
        [
         "44",
         "1596.93",
         "11",
         "Rondônia",
         "2025-01-01 00:00:00+00:00",
         " Especificação tipo \"B\", 1 pavimento, sala, 1 quarto, cozinha e banheiro",
         "Mínimo"
        ],
        [
         "45",
         "0.0",
         "11",
         "Rondônia",
         "2025-01-01 00:00:00+00:00",
         " Especificação tipo \"A\", 1 pavimento, sala, 2 quartos, cozinha e banheiro",
         "Alto"
        ],
        [
         "46",
         "0.0",
         "11",
         "Rondônia",
         "2025-01-01 00:00:00+00:00",
         " Especificação tipo \"A\", 1 pavimento, sala, 2 quartos, cozinha e banheiro",
         "Normal"
        ],
        [
         "47",
         "1607.42",
         "11",
         "Rondônia",
         "2025-01-01 00:00:00+00:00",
         " Especificação tipo \"A\", 1 pavimento, sala, 2 quartos, cozinha e banheiro",
         "Baixo"
        ],
        [
         "48",
         "1401.86",
         "11",
         "Rondônia",
         "2025-01-01 00:00:00+00:00",
         " Especificação tipo \"A\", 1 pavimento, sala, 2 quartos, cozinha e banheiro",
         "Mínimo"
        ],
        [
         "49",
         "0.0",
         "11",
         "Rondônia",
         "2025-01-01 00:00:00+00:00",
         " Especificação tipo \"B\", 1 pavimento, sala, 2 quartos, cozinha e banheiro",
         "Alto"
        ],
        [
         "50",
         "0.0",
         "11",
         "Rondônia",
         "2025-01-01 00:00:00+00:00",
         " Especificação tipo \"B\", 1 pavimento, sala, 2 quartos, cozinha e banheiro",
         "Normal"
        ]
       ],
       "shape": {
        "columns": 6,
        "rows": 16848
       }
      },
      "text/html": [
       "<div>\n",
       "<style scoped>\n",
       "    .dataframe tbody tr th:only-of-type {\n",
       "        vertical-align: middle;\n",
       "    }\n",
       "\n",
       "    .dataframe tbody tr th {\n",
       "        vertical-align: top;\n",
       "    }\n",
       "\n",
       "    .dataframe thead th {\n",
       "        text-align: right;\n",
       "    }\n",
       "</style>\n",
       "<table border=\"1\" class=\"dataframe\">\n",
       "  <thead>\n",
       "    <tr style=\"text-align: right;\">\n",
       "      <th></th>\n",
       "      <th>valor</th>\n",
       "      <th>unidade_da_federacao_codigo</th>\n",
       "      <th>unidade_da_federacao</th>\n",
       "      <th>periodo</th>\n",
       "      <th>tipo_de_projeto</th>\n",
       "      <th>padrao_de_acabamento</th>\n",
       "    </tr>\n",
       "    <tr>\n",
       "      <th>index</th>\n",
       "      <th></th>\n",
       "      <th></th>\n",
       "      <th></th>\n",
       "      <th></th>\n",
       "      <th></th>\n",
       "      <th></th>\n",
       "    </tr>\n",
       "  </thead>\n",
       "  <tbody>\n",
       "    <tr>\n",
       "      <th>1</th>\n",
       "      <td>0.00</td>\n",
       "      <td>11</td>\n",
       "      <td>Rondônia</td>\n",
       "      <td>2025-01-01 00:00:00+00:00</td>\n",
       "      <td>Casa popular, 1 pavimento, varanda, sala, 2 quartos, circulação, banheiro e...</td>\n",
       "      <td>Alto</td>\n",
       "    </tr>\n",
       "    <tr>\n",
       "      <th>2</th>\n",
       "      <td>2009.92</td>\n",
       "      <td>11</td>\n",
       "      <td>Rondônia</td>\n",
       "      <td>2025-01-01 00:00:00+00:00</td>\n",
       "      <td>Casa popular, 1 pavimento, varanda, sala, 2 quartos, circulação, banheiro e...</td>\n",
       "      <td>Normal</td>\n",
       "    </tr>\n",
       "    <tr>\n",
       "      <th>3</th>\n",
       "      <td>1413.30</td>\n",
       "      <td>11</td>\n",
       "      <td>Rondônia</td>\n",
       "      <td>2025-01-01 00:00:00+00:00</td>\n",
       "      <td>Casa popular, 1 pavimento, varanda, sala, 2 quartos, circulação, banheiro e...</td>\n",
       "      <td>Baixo</td>\n",
       "    </tr>\n",
       "    <tr>\n",
       "      <th>4</th>\n",
       "      <td>1215.72</td>\n",
       "      <td>11</td>\n",
       "      <td>Rondônia</td>\n",
       "      <td>2025-01-01 00:00:00+00:00</td>\n",
       "      <td>Casa popular, 1 pavimento, varanda, sala, 2 quartos, circulação, banheiro e...</td>\n",
       "      <td>Mínimo</td>\n",
       "    </tr>\n",
       "    <tr>\n",
       "      <th>5</th>\n",
       "      <td>0.00</td>\n",
       "      <td>11</td>\n",
       "      <td>Rondônia</td>\n",
       "      <td>2025-01-01 00:00:00+00:00</td>\n",
       "      <td>Casa popular, 1 pavimento, sala, 2 quartos, circulação, banheiro e cozinha</td>\n",
       "      <td>Alto</td>\n",
       "    </tr>\n",
       "    <tr>\n",
       "      <th>...</th>\n",
       "      <td>...</td>\n",
       "      <td>...</td>\n",
       "      <td>...</td>\n",
       "      <td>...</td>\n",
       "      <td>...</td>\n",
       "      <td>...</td>\n",
       "    </tr>\n",
       "    <tr>\n",
       "      <th>16844</th>\n",
       "      <td>1100.61</td>\n",
       "      <td>53</td>\n",
       "      <td>Distrito Federal</td>\n",
       "      <td>2025-04-01 00:00:00+00:00</td>\n",
       "      <td>Projeto-tipo cesta básica, materiais e mão-de-obra, sala, quarto, circulaçã...</td>\n",
       "      <td>Mínimo</td>\n",
       "    </tr>\n",
       "    <tr>\n",
       "      <th>16845</th>\n",
       "      <td>0.00</td>\n",
       "      <td>53</td>\n",
       "      <td>Distrito Federal</td>\n",
       "      <td>2025-04-01 00:00:00+00:00</td>\n",
       "      <td>Projeto-tipo cesta básica, materiais e mão-de-obra, sala, circulação, banhe...</td>\n",
       "      <td>Alto</td>\n",
       "    </tr>\n",
       "    <tr>\n",
       "      <th>16846</th>\n",
       "      <td>0.00</td>\n",
       "      <td>53</td>\n",
       "      <td>Distrito Federal</td>\n",
       "      <td>2025-04-01 00:00:00+00:00</td>\n",
       "      <td>Projeto-tipo cesta básica, materiais e mão-de-obra, sala, circulação, banhe...</td>\n",
       "      <td>Normal</td>\n",
       "    </tr>\n",
       "    <tr>\n",
       "      <th>16847</th>\n",
       "      <td>0.00</td>\n",
       "      <td>53</td>\n",
       "      <td>Distrito Federal</td>\n",
       "      <td>2025-04-01 00:00:00+00:00</td>\n",
       "      <td>Projeto-tipo cesta básica, materiais e mão-de-obra, sala, circulação, banhe...</td>\n",
       "      <td>Baixo</td>\n",
       "    </tr>\n",
       "    <tr>\n",
       "      <th>16848</th>\n",
       "      <td>1257.95</td>\n",
       "      <td>53</td>\n",
       "      <td>Distrito Federal</td>\n",
       "      <td>2025-04-01 00:00:00+00:00</td>\n",
       "      <td>Projeto-tipo cesta básica, materiais e mão-de-obra, sala, circulação, banhe...</td>\n",
       "      <td>Mínimo</td>\n",
       "    </tr>\n",
       "  </tbody>\n",
       "</table>\n",
       "<p>16848 rows × 6 columns</p>\n",
       "</div>"
      ],
      "text/plain": [
       "         valor  unidade_da_federacao_codigo unidade_da_federacao  \\\n",
       "index                                                              \n",
       "1         0.00                           11             Rondônia   \n",
       "2      2009.92                           11             Rondônia   \n",
       "3      1413.30                           11             Rondônia   \n",
       "4      1215.72                           11             Rondônia   \n",
       "5         0.00                           11             Rondônia   \n",
       "...        ...                          ...                  ...   \n",
       "16844  1100.61                           53     Distrito Federal   \n",
       "16845     0.00                           53     Distrito Federal   \n",
       "16846     0.00                           53     Distrito Federal   \n",
       "16847     0.00                           53     Distrito Federal   \n",
       "16848  1257.95                           53     Distrito Federal   \n",
       "\n",
       "                        periodo  \\\n",
       "index                             \n",
       "1     2025-01-01 00:00:00+00:00   \n",
       "2     2025-01-01 00:00:00+00:00   \n",
       "3     2025-01-01 00:00:00+00:00   \n",
       "4     2025-01-01 00:00:00+00:00   \n",
       "5     2025-01-01 00:00:00+00:00   \n",
       "...                         ...   \n",
       "16844 2025-04-01 00:00:00+00:00   \n",
       "16845 2025-04-01 00:00:00+00:00   \n",
       "16846 2025-04-01 00:00:00+00:00   \n",
       "16847 2025-04-01 00:00:00+00:00   \n",
       "16848 2025-04-01 00:00:00+00:00   \n",
       "\n",
       "                                                                       tipo_de_projeto  \\\n",
       "index                                                                                    \n",
       "1       Casa popular, 1 pavimento, varanda, sala, 2 quartos, circulação, banheiro e...   \n",
       "2       Casa popular, 1 pavimento, varanda, sala, 2 quartos, circulação, banheiro e...   \n",
       "3       Casa popular, 1 pavimento, varanda, sala, 2 quartos, circulação, banheiro e...   \n",
       "4       Casa popular, 1 pavimento, varanda, sala, 2 quartos, circulação, banheiro e...   \n",
       "5           Casa popular, 1 pavimento, sala, 2 quartos, circulação, banheiro e cozinha   \n",
       "...                                                                                ...   \n",
       "16844   Projeto-tipo cesta básica, materiais e mão-de-obra, sala, quarto, circulaçã...   \n",
       "16845   Projeto-tipo cesta básica, materiais e mão-de-obra, sala, circulação, banhe...   \n",
       "16846   Projeto-tipo cesta básica, materiais e mão-de-obra, sala, circulação, banhe...   \n",
       "16847   Projeto-tipo cesta básica, materiais e mão-de-obra, sala, circulação, banhe...   \n",
       "16848   Projeto-tipo cesta básica, materiais e mão-de-obra, sala, circulação, banhe...   \n",
       "\n",
       "      padrao_de_acabamento  \n",
       "index                       \n",
       "1                     Alto  \n",
       "2                   Normal  \n",
       "3                    Baixo  \n",
       "4                   Mínimo  \n",
       "5                     Alto  \n",
       "...                    ...  \n",
       "16844               Mínimo  \n",
       "16845                 Alto  \n",
       "16846               Normal  \n",
       "16847                Baixo  \n",
       "16848               Mínimo  \n",
       "\n",
       "[16848 rows x 6 columns]"
      ]
     },
     "execution_count": 843,
     "metadata": {},
     "output_type": "execute_result"
    }
   ],
   "source": [
    "#transformando em categoric\n",
    "df_tipo_de_projeto_tratar['tipo_de_projeto'] = pd.Categorical(df_tipo_de_projeto_tratar['tipo_de_projeto'])\n",
    "df_tipo_de_projeto_tratar"
   ]
  },
  {
   "cell_type": "markdown",
   "id": "ade6f393",
   "metadata": {},
   "source": [
    "Transformando coluna padrao_de_acabamento: requisitos -> tipo: categorico e sem valores nulos"
   ]
  },
  {
   "cell_type": "code",
   "execution_count": 844,
   "id": "88eca851",
   "metadata": {},
   "outputs": [],
   "source": [
    "df_padrao_de_acabamento_tratar = df_tipo_de_projeto_tratar\n",
    "df_padrao_de_acabamento_tratar['padrao_de_acabamento'] = df_padrao_de_acabamento_tratar['padrao_de_acabamento'].astype(str)"
   ]
  },
  {
   "cell_type": "code",
   "execution_count": 845,
   "id": "824712aa",
   "metadata": {},
   "outputs": [
    {
     "data": {
      "text/plain": [
       "np.int64(0)"
      ]
     },
     "execution_count": 845,
     "metadata": {},
     "output_type": "execute_result"
    }
   ],
   "source": [
    "#verificando nulos\n",
    "df_padrao_de_acabamento_tratar['padrao_de_acabamento'].isnull().sum()\n",
    "# Há no total: 0 valores nulos"
   ]
  },
  {
   "cell_type": "code",
   "execution_count": 846,
   "id": "1cfb10b8",
   "metadata": {},
   "outputs": [
    {
     "data": {
      "application/vnd.microsoft.datawrangler.viewer.v0+json": {
       "columns": [
        {
         "name": "padrao_de_acabamento",
         "rawType": "bool",
         "type": "boolean"
        },
        {
         "name": "count",
         "rawType": "int64",
         "type": "integer"
        }
       ],
       "ref": "77abb00b-4de6-4ed6-b6d5-a1d64df89736",
       "rows": [
        [
         "True",
         "16848"
        ]
       ],
       "shape": {
        "columns": 1,
        "rows": 1
       }
      },
      "text/plain": [
       "padrao_de_acabamento\n",
       "True    16848\n",
       "Name: count, dtype: int64"
      ]
     },
     "execution_count": 846,
     "metadata": {},
     "output_type": "execute_result"
    }
   ],
   "source": [
    "#verificando inconsistencias de padrões\n",
    "padroes_de_acabamento = ['Alto', 'Normal', 'Baixo', 'Mínimo']\n",
    "df_padrao_de_acabamento_tratar['padrao_de_acabamento'].isin(padroes_de_acabamento).value_counts()\n",
    "# Não há valores fora do padrão do padroes_de_acabamento"
   ]
  },
  {
   "cell_type": "code",
   "execution_count": 847,
   "id": "135cb769",
   "metadata": {},
   "outputs": [],
   "source": [
    "df_padrao_de_acabamento_tratar['padrao_de_acabamento'] = pd.Categorical(df_padrao_de_acabamento_tratar['padrao_de_acabamento'])\n"
   ]
  },
  {
   "cell_type": "code",
   "execution_count": 848,
   "id": "fbe3ccef",
   "metadata": {},
   "outputs": [
    {
     "name": "stdout",
     "output_type": "stream",
     "text": [
      "<class 'pandas.core.frame.DataFrame'>\n",
      "Index: 16848 entries, 1 to 16848\n",
      "Data columns (total 6 columns):\n",
      " #   Column                       Non-Null Count  Dtype              \n",
      "---  ------                       --------------  -----              \n",
      " 0   valor                        16848 non-null  float64            \n",
      " 1   unidade_da_federacao_codigo  16848 non-null  int64              \n",
      " 2   unidade_da_federacao         16848 non-null  category           \n",
      " 3   periodo                      16848 non-null  datetime64[ns, UTC]\n",
      " 4   tipo_de_projeto              16848 non-null  category           \n",
      " 5   padrao_de_acabamento         16848 non-null  category           \n",
      "dtypes: category(3), datetime64[ns, UTC](1), float64(1), int64(1)\n",
      "memory usage: 578.7 KB\n"
     ]
    }
   ],
   "source": [
    "df_padrao_de_acabamento_tratar.info()"
   ]
  },
  {
   "cell_type": "code",
   "execution_count": 850,
   "id": "2ac859a8",
   "metadata": {},
   "outputs": [
    {
     "data": {
      "application/vnd.microsoft.datawrangler.viewer.v0+json": {
       "columns": [
        {
         "name": "index",
         "rawType": "object",
         "type": "string"
        },
        {
         "name": "valor",
         "rawType": "float64",
         "type": "float"
        }
       ],
       "ref": "a0064da4-2e27-4cb2-ac68-9df8285d66cd",
       "rows": [
        [
         "count",
         "16848.0"
        ],
        [
         "mean",
         "894.8509834995252"
        ],
        [
         "std",
         "885.8736463276456"
        ],
        [
         "min",
         "0.0"
        ],
        [
         "25%",
         "0.0"
        ],
        [
         "50%",
         "1139.2150000000001"
        ],
        [
         "75%",
         "1682.2250000000001"
        ],
        [
         "max",
         "3553.93"
        ]
       ],
       "shape": {
        "columns": 1,
        "rows": 8
       }
      },
      "text/plain": [
       "count    16848.000000\n",
       "mean       894.850983\n",
       "std        885.873646\n",
       "min          0.000000\n",
       "25%          0.000000\n",
       "50%       1139.215000\n",
       "75%       1682.225000\n",
       "max       3553.930000\n",
       "Name: valor, dtype: float64"
      ]
     },
     "execution_count": 850,
     "metadata": {},
     "output_type": "execute_result"
    }
   ],
   "source": [
    "df_padrao_de_acabamento_tratar['valor'].describe()"
   ]
  },
  {
   "cell_type": "code",
   "execution_count": 851,
   "id": "38471dde",
   "metadata": {},
   "outputs": [
    {
     "data": {
      "text/plain": [
       "(16848, 6)"
      ]
     },
     "execution_count": 851,
     "metadata": {},
     "output_type": "execute_result"
    }
   ],
   "source": [
    "df_padrao_de_acabamento_tratar.shape"
   ]
  },
  {
   "cell_type": "code",
   "execution_count": 855,
   "id": "3d14c08e",
   "metadata": {},
   "outputs": [],
   "source": [
    "caminho = '../data/processed'\n",
    "df_padrao_de_acabamento_tratar.to_csv(f'{caminho}/sinapi.csv')"
   ]
  }
 ],
 "metadata": {
  "kernelspec": {
   "display_name": ".venv (3.12.3)",
   "language": "python",
   "name": "python3"
  },
  "language_info": {
   "codemirror_mode": {
    "name": "ipython",
    "version": 3
   },
   "file_extension": ".py",
   "mimetype": "text/x-python",
   "name": "python",
   "nbconvert_exporter": "python",
   "pygments_lexer": "ipython3",
   "version": "3.12.3"
  }
 },
 "nbformat": 4,
 "nbformat_minor": 5
}

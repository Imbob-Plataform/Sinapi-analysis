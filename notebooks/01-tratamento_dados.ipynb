{
 "cells": [
  {
   "cell_type": "markdown",
   "id": "cbda2ed2",
   "metadata": {},
   "source": [
    "#### Iniciando processo de tratamento de dados. É preciso tratar os dados para posteriormente fazer uma análise exploratória."
   ]
  },
  {
   "cell_type": "code",
   "execution_count": 13,
   "id": "560a7619",
   "metadata": {},
   "outputs": [
    {
     "name": "stdout",
     "output_type": "stream",
     "text": [
      "<class 'pandas.core.frame.DataFrame'>\n",
      "RangeIndex: 16849 entries, 0 to 16848\n",
      "Data columns (total 16 columns):\n",
      " #   Column      Non-Null Count  Dtype \n",
      "---  ------      --------------  ----- \n",
      " 0   Unnamed: 0  16849 non-null  int64 \n",
      " 1   NC          16849 non-null  object\n",
      " 2   NN          16849 non-null  object\n",
      " 3   MC          16849 non-null  object\n",
      " 4   MN          16849 non-null  object\n",
      " 5   V           16849 non-null  object\n",
      " 6   D1C         16849 non-null  object\n",
      " 7   D1N         16849 non-null  object\n",
      " 8   D2C         16849 non-null  object\n",
      " 9   D2N         16849 non-null  object\n",
      " 10  D3C         16849 non-null  object\n",
      " 11  D3N         16849 non-null  object\n",
      " 12  D4C         16849 non-null  object\n",
      " 13  D4N         16849 non-null  object\n",
      " 14  D5C         16849 non-null  object\n",
      " 15  D5N         16849 non-null  object\n",
      "dtypes: int64(1), object(15)\n",
      "memory usage: 2.1+ MB\n"
     ]
    }
   ],
   "source": [
    "import pandas as pd\n",
    "import matplotlib.pyplot as plt\n",
    "import seaborn as sns\n",
    "\n",
    "dataframe = pd.read_csv(r'../data/raw/sinapi.csv')\n",
    "dataframe.info()"
   ]
  }
 ],
 "metadata": {
  "kernelspec": {
   "display_name": ".venv (3.12.3)",
   "language": "python",
   "name": "python3"
  },
  "language_info": {
   "codemirror_mode": {
    "name": "ipython",
    "version": 3
   },
   "file_extension": ".py",
   "mimetype": "text/x-python",
   "name": "python",
   "nbconvert_exporter": "python",
   "pygments_lexer": "ipython3",
   "version": "3.12.3"
  }
 },
 "nbformat": 4,
 "nbformat_minor": 5
}

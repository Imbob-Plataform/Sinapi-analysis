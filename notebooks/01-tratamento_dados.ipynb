{
 "cells": [
  {
   "cell_type": "markdown",
   "id": "cbda2ed2",
   "metadata": {},
   "source": [
    "#### Iniciando processo de tratamento de dados. É preciso tratar os dados para posteriormente fazer uma análise exploratória."
   ]
  },
  {
   "cell_type": "code",
   "execution_count": 28,
   "id": "560a7619",
   "metadata": {},
   "outputs": [
    {
     "name": "stdout",
     "output_type": "stream",
     "text": [
      "<class 'pandas.core.frame.DataFrame'>\n",
      "Index: 16848 entries, 1 to 16848\n",
      "Data columns (total 15 columns):\n",
      " #   Column                         Non-Null Count  Dtype \n",
      "---  ------                         --------------  ----- \n",
      " 0   Nível Territorial (Código)     16848 non-null  int64 \n",
      " 1   Nível Territorial              16848 non-null  object\n",
      " 2   Unidade de Medida (Código)     16848 non-null  int64 \n",
      " 3   Unidade de Medida              16848 non-null  object\n",
      " 4   Valor                          16848 non-null  object\n",
      " 5   Unidade da Federação (Código)  16848 non-null  int64 \n",
      " 6   Unidade da Federação           16848 non-null  object\n",
      " 7   Variável (Código)              16848 non-null  int64 \n",
      " 8   Variável                       16848 non-null  object\n",
      " 9   Mês (Código)                   16848 non-null  int64 \n",
      " 10  Mês                            16848 non-null  object\n",
      " 11  Tipo de projeto (Código)       16848 non-null  int64 \n",
      " 12  Tipo de projeto                16848 non-null  object\n",
      " 13  Padrão de acabamento (Código)  16848 non-null  int64 \n",
      " 14  Padrão de acabamento           16848 non-null  object\n",
      "dtypes: int64(7), object(8)\n",
      "memory usage: 2.1+ MB\n"
     ]
    }
   ],
   "source": [
    "import pandas as pd\n",
    "import matplotlib.pyplot as plt\n",
    "import seaborn as sns\n",
    "\n",
    "dataframe = pd.read_csv(r'../data/raw/sinapi.csv', header=1, index_col='0')\n",
    "dataframe.info()"
   ]
  }
 ],
 "metadata": {
  "kernelspec": {
   "display_name": ".venv (3.12.3)",
   "language": "python",
   "name": "python3"
  },
  "language_info": {
   "codemirror_mode": {
    "name": "ipython",
    "version": 3
   },
   "file_extension": ".py",
   "mimetype": "text/x-python",
   "name": "python",
   "nbconvert_exporter": "python",
   "pygments_lexer": "ipython3",
   "version": "3.12.3"
  }
 },
 "nbformat": 4,
 "nbformat_minor": 5
}

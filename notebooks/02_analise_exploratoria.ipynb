{
 "cells": [
  {
   "cell_type": "markdown",
   "id": "53e12fb3",
   "metadata": {},
   "source": [
    "### Análise exploratória dos dados já processados\n"
   ]
  },
  {
   "cell_type": "code",
   "execution_count": 5,
   "id": "71de7d1a",
   "metadata": {},
   "outputs": [
    {
     "name": "stdout",
     "output_type": "stream",
     "text": [
      "<class 'pandas.core.frame.DataFrame'>\n",
      "Index: 16848 entries, 1 to 16848\n",
      "Data columns (total 6 columns):\n",
      " #   Column                       Non-Null Count  Dtype  \n",
      "---  ------                       --------------  -----  \n",
      " 0   valor                        16848 non-null  float64\n",
      " 1   unidade_da_federacao_codigo  16848 non-null  int64  \n",
      " 2   unidade_da_federacao         16848 non-null  object \n",
      " 3   periodo                      16848 non-null  object \n",
      " 4   tipo_de_projeto              16848 non-null  object \n",
      " 5   padrao_de_acabamento         16848 non-null  object \n",
      "dtypes: float64(1), int64(1), object(4)\n",
      "memory usage: 921.4+ KB\n"
     ]
    },
    {
     "data": {
      "application/vnd.microsoft.datawrangler.viewer.v0+json": {
       "columns": [
        {
         "name": "index",
         "rawType": "int64",
         "type": "integer"
        },
        {
         "name": "valor",
         "rawType": "float64",
         "type": "float"
        },
        {
         "name": "unidade_da_federacao_codigo",
         "rawType": "int64",
         "type": "integer"
        },
        {
         "name": "unidade_da_federacao",
         "rawType": "object",
         "type": "string"
        },
        {
         "name": "periodo",
         "rawType": "object",
         "type": "string"
        },
        {
         "name": "tipo_de_projeto",
         "rawType": "object",
         "type": "string"
        },
        {
         "name": "padrao_de_acabamento",
         "rawType": "object",
         "type": "string"
        }
       ],
       "ref": "36db1bd8-a454-4b96-90f9-78a5a48e7e3a",
       "rows": [
        [
         "1",
         "0.0",
         "11",
         "Rondônia",
         "2025-01-01 00:00:00+00:00",
         " Casa popular, 1 pavimento, varanda, sala, 2 quartos, circulação, banheiro e cozinha",
         "Alto"
        ],
        [
         "2",
         "2009.92",
         "11",
         "Rondônia",
         "2025-01-01 00:00:00+00:00",
         " Casa popular, 1 pavimento, varanda, sala, 2 quartos, circulação, banheiro e cozinha",
         "Normal"
        ],
        [
         "3",
         "1413.3",
         "11",
         "Rondônia",
         "2025-01-01 00:00:00+00:00",
         " Casa popular, 1 pavimento, varanda, sala, 2 quartos, circulação, banheiro e cozinha",
         "Baixo"
        ],
        [
         "4",
         "1215.72",
         "11",
         "Rondônia",
         "2025-01-01 00:00:00+00:00",
         " Casa popular, 1 pavimento, varanda, sala, 2 quartos, circulação, banheiro e cozinha",
         "Mínimo"
        ],
        [
         "5",
         "0.0",
         "11",
         "Rondônia",
         "2025-01-01 00:00:00+00:00",
         " Casa popular, 1 pavimento, sala, 2 quartos, circulação, banheiro e cozinha",
         "Alto"
        ],
        [
         "6",
         "2254.8",
         "11",
         "Rondônia",
         "2025-01-01 00:00:00+00:00",
         " Casa popular, 1 pavimento, sala, 2 quartos, circulação, banheiro e cozinha",
         "Normal"
        ],
        [
         "7",
         "1581.98",
         "11",
         "Rondônia",
         "2025-01-01 00:00:00+00:00",
         " Casa popular, 1 pavimento, sala, 2 quartos, circulação, banheiro e cozinha",
         "Baixo"
        ],
        [
         "8",
         "1362.58",
         "11",
         "Rondônia",
         "2025-01-01 00:00:00+00:00",
         " Casa popular, 1 pavimento, sala, 2 quartos, circulação, banheiro e cozinha",
         "Mínimo"
        ],
        [
         "9",
         "0.0",
         "11",
         "Rondônia",
         "2025-01-01 00:00:00+00:00",
         " Casa residencial, 1 pavimento, varanda, sala,2 quartos, circulação, banheiro, cozinha, área de serviço, quarto e WC de empregada",
         "Alto"
        ],
        [
         "10",
         "2236.13",
         "11",
         "Rondônia",
         "2025-01-01 00:00:00+00:00",
         " Casa residencial, 1 pavimento, varanda, sala,2 quartos, circulação, banheiro, cozinha, área de serviço, quarto e WC de empregada",
         "Normal"
        ],
        [
         "11",
         "1615.48",
         "11",
         "Rondônia",
         "2025-01-01 00:00:00+00:00",
         " Casa residencial, 1 pavimento, varanda, sala,2 quartos, circulação, banheiro, cozinha, área de serviço, quarto e WC de empregada",
         "Baixo"
        ],
        [
         "12",
         "1412.19",
         "11",
         "Rondônia",
         "2025-01-01 00:00:00+00:00",
         " Casa residencial, 1 pavimento, varanda, sala,2 quartos, circulação, banheiro, cozinha, área de serviço, quarto e WC de empregada",
         "Mínimo"
        ],
        [
         "13",
         "2398.7",
         "11",
         "Rondônia",
         "2025-01-01 00:00:00+00:00",
         " Casa residencial, 1 pavimento, varanda, sala,3 quartos, circulação, banheiro, lavabo, cozinha, área de serviço, quarto e WC de empregada",
         "Alto"
        ],
        [
         "14",
         "1911.39",
         "11",
         "Rondônia",
         "2025-01-01 00:00:00+00:00",
         " Casa residencial, 1 pavimento, varanda, sala,3 quartos, circulação, banheiro, lavabo, cozinha, área de serviço, quarto e WC de empregada",
         "Normal"
        ],
        [
         "15",
         "1338.29",
         "11",
         "Rondônia",
         "2025-01-01 00:00:00+00:00",
         " Casa residencial, 1 pavimento, varanda, sala,3 quartos, circulação, banheiro, lavabo, cozinha, área de serviço, quarto e WC de empregada",
         "Baixo"
        ],
        [
         "16",
         "0.0",
         "11",
         "Rondônia",
         "2025-01-01 00:00:00+00:00",
         " Casa residencial, 1 pavimento, varanda, sala,3 quartos, circulação, banheiro, lavabo, cozinha, área de serviço, quarto e WC de empregada",
         "Mínimo"
        ],
        [
         "17",
         "2281.19",
         "11",
         "Rondônia",
         "2025-01-01 00:00:00+00:00",
         " Casa residencial, 1 pavimento, varanda, sala,4 quartos, circulação, 2 banheiros, cozinha, área de serviço, quarto e WC de empregada",
         "Alto"
        ],
        [
         "18",
         "1821.15",
         "11",
         "Rondônia",
         "2025-01-01 00:00:00+00:00",
         " Casa residencial, 1 pavimento, varanda, sala,4 quartos, circulação, 2 banheiros, cozinha, área de serviço, quarto e WC de empregada",
         "Normal"
        ],
        [
         "19",
         "1259.13",
         "11",
         "Rondônia",
         "2025-01-01 00:00:00+00:00",
         " Casa residencial, 1 pavimento, varanda, sala,4 quartos, circulação, 2 banheiros, cozinha, área de serviço, quarto e WC de empregada",
         "Baixo"
        ],
        [
         "20",
         "0.0",
         "11",
         "Rondônia",
         "2025-01-01 00:00:00+00:00",
         " Casa residencial, 1 pavimento, varanda, sala,4 quartos, circulação, 2 banheiros, cozinha, área de serviço, quarto e WC de empregada",
         "Mínimo"
        ],
        [
         "21",
         "0.0",
         "11",
         "Rondônia",
         "2025-01-01 00:00:00+00:00",
         " Especificação tipo \"A\", 1 pavimento, somente unidade sanitária",
         "Alto"
        ],
        [
         "22",
         "0.0",
         "11",
         "Rondônia",
         "2025-01-01 00:00:00+00:00",
         " Especificação tipo \"A\", 1 pavimento, somente unidade sanitária",
         "Normal"
        ],
        [
         "23",
         "0.0",
         "11",
         "Rondônia",
         "2025-01-01 00:00:00+00:00",
         " Especificação tipo \"A\", 1 pavimento, somente unidade sanitária",
         "Baixo"
        ],
        [
         "24",
         "2653.91",
         "11",
         "Rondônia",
         "2025-01-01 00:00:00+00:00",
         " Especificação tipo \"A\", 1 pavimento, somente unidade sanitária",
         "Mínimo"
        ],
        [
         "25",
         "0.0",
         "11",
         "Rondônia",
         "2025-01-01 00:00:00+00:00",
         " Especificação tipo \"B\", 1 pavimento, somente unidade sanitária",
         "Alto"
        ],
        [
         "26",
         "0.0",
         "11",
         "Rondônia",
         "2025-01-01 00:00:00+00:00",
         " Especificação tipo \"B\", 1 pavimento, somente unidade sanitária",
         "Normal"
        ],
        [
         "27",
         "0.0",
         "11",
         "Rondônia",
         "2025-01-01 00:00:00+00:00",
         " Especificação tipo \"B\", 1 pavimento, somente unidade sanitária",
         "Baixo"
        ],
        [
         "28",
         "3312.55",
         "11",
         "Rondônia",
         "2025-01-01 00:00:00+00:00",
         " Especificação tipo \"B\", 1 pavimento, somente unidade sanitária",
         "Mínimo"
        ],
        [
         "29",
         "0.0",
         "11",
         "Rondônia",
         "2025-01-01 00:00:00+00:00",
         " Especificação tipo \"A\", 1 pavimento, sala, cozinha e banheiro",
         "Alto"
        ],
        [
         "30",
         "0.0",
         "11",
         "Rondônia",
         "2025-01-01 00:00:00+00:00",
         " Especificação tipo \"A\", 1 pavimento, sala, cozinha e banheiro",
         "Normal"
        ],
        [
         "31",
         "1991.83",
         "11",
         "Rondônia",
         "2025-01-01 00:00:00+00:00",
         " Especificação tipo \"A\", 1 pavimento, sala, cozinha e banheiro",
         "Baixo"
        ],
        [
         "32",
         "1775.78",
         "11",
         "Rondônia",
         "2025-01-01 00:00:00+00:00",
         " Especificação tipo \"A\", 1 pavimento, sala, cozinha e banheiro",
         "Mínimo"
        ],
        [
         "33",
         "0.0",
         "11",
         "Rondônia",
         "2025-01-01 00:00:00+00:00",
         " Especificação tipo \"B\", 1 pavimento, sala, cozinha e banheiro",
         "Alto"
        ],
        [
         "34",
         "0.0",
         "11",
         "Rondônia",
         "2025-01-01 00:00:00+00:00",
         " Especificação tipo \"B\", 1 pavimento, sala, cozinha e banheiro",
         "Normal"
        ],
        [
         "35",
         "1975.55",
         "11",
         "Rondônia",
         "2025-01-01 00:00:00+00:00",
         " Especificação tipo \"B\", 1 pavimento, sala, cozinha e banheiro",
         "Baixo"
        ],
        [
         "36",
         "1757.27",
         "11",
         "Rondônia",
         "2025-01-01 00:00:00+00:00",
         " Especificação tipo \"B\", 1 pavimento, sala, cozinha e banheiro",
         "Mínimo"
        ],
        [
         "37",
         "0.0",
         "11",
         "Rondônia",
         "2025-01-01 00:00:00+00:00",
         " Especificação tipo \"A\", 1 pavimento, sala, 1 quarto, cozinha e banheiro",
         "Alto"
        ],
        [
         "38",
         "0.0",
         "11",
         "Rondônia",
         "2025-01-01 00:00:00+00:00",
         " Especificação tipo \"A\", 1 pavimento, sala, 1 quarto, cozinha e banheiro",
         "Normal"
        ],
        [
         "39",
         "1781.56",
         "11",
         "Rondônia",
         "2025-01-01 00:00:00+00:00",
         " Especificação tipo \"A\", 1 pavimento, sala, 1 quarto, cozinha e banheiro",
         "Baixo"
        ],
        [
         "40",
         "1567.63",
         "11",
         "Rondônia",
         "2025-01-01 00:00:00+00:00",
         " Especificação tipo \"A\", 1 pavimento, sala, 1 quarto, cozinha e banheiro",
         "Mínimo"
        ],
        [
         "41",
         "0.0",
         "11",
         "Rondônia",
         "2025-01-01 00:00:00+00:00",
         " Especificação tipo \"B\", 1 pavimento, sala, 1 quarto, cozinha e banheiro",
         "Alto"
        ],
        [
         "42",
         "0.0",
         "11",
         "Rondônia",
         "2025-01-01 00:00:00+00:00",
         " Especificação tipo \"B\", 1 pavimento, sala, 1 quarto, cozinha e banheiro",
         "Normal"
        ],
        [
         "43",
         "1816.51",
         "11",
         "Rondônia",
         "2025-01-01 00:00:00+00:00",
         " Especificação tipo \"B\", 1 pavimento, sala, 1 quarto, cozinha e banheiro",
         "Baixo"
        ],
        [
         "44",
         "1596.93",
         "11",
         "Rondônia",
         "2025-01-01 00:00:00+00:00",
         " Especificação tipo \"B\", 1 pavimento, sala, 1 quarto, cozinha e banheiro",
         "Mínimo"
        ],
        [
         "45",
         "0.0",
         "11",
         "Rondônia",
         "2025-01-01 00:00:00+00:00",
         " Especificação tipo \"A\", 1 pavimento, sala, 2 quartos, cozinha e banheiro",
         "Alto"
        ],
        [
         "46",
         "0.0",
         "11",
         "Rondônia",
         "2025-01-01 00:00:00+00:00",
         " Especificação tipo \"A\", 1 pavimento, sala, 2 quartos, cozinha e banheiro",
         "Normal"
        ],
        [
         "47",
         "1607.42",
         "11",
         "Rondônia",
         "2025-01-01 00:00:00+00:00",
         " Especificação tipo \"A\", 1 pavimento, sala, 2 quartos, cozinha e banheiro",
         "Baixo"
        ],
        [
         "48",
         "1401.86",
         "11",
         "Rondônia",
         "2025-01-01 00:00:00+00:00",
         " Especificação tipo \"A\", 1 pavimento, sala, 2 quartos, cozinha e banheiro",
         "Mínimo"
        ],
        [
         "49",
         "0.0",
         "11",
         "Rondônia",
         "2025-01-01 00:00:00+00:00",
         " Especificação tipo \"B\", 1 pavimento, sala, 2 quartos, cozinha e banheiro",
         "Alto"
        ],
        [
         "50",
         "0.0",
         "11",
         "Rondônia",
         "2025-01-01 00:00:00+00:00",
         " Especificação tipo \"B\", 1 pavimento, sala, 2 quartos, cozinha e banheiro",
         "Normal"
        ]
       ],
       "shape": {
        "columns": 6,
        "rows": 16848
       }
      },
      "text/html": [
       "<div>\n",
       "<style scoped>\n",
       "    .dataframe tbody tr th:only-of-type {\n",
       "        vertical-align: middle;\n",
       "    }\n",
       "\n",
       "    .dataframe tbody tr th {\n",
       "        vertical-align: top;\n",
       "    }\n",
       "\n",
       "    .dataframe thead th {\n",
       "        text-align: right;\n",
       "    }\n",
       "</style>\n",
       "<table border=\"1\" class=\"dataframe\">\n",
       "  <thead>\n",
       "    <tr style=\"text-align: right;\">\n",
       "      <th></th>\n",
       "      <th>valor</th>\n",
       "      <th>unidade_da_federacao_codigo</th>\n",
       "      <th>unidade_da_federacao</th>\n",
       "      <th>periodo</th>\n",
       "      <th>tipo_de_projeto</th>\n",
       "      <th>padrao_de_acabamento</th>\n",
       "    </tr>\n",
       "    <tr>\n",
       "      <th>index</th>\n",
       "      <th></th>\n",
       "      <th></th>\n",
       "      <th></th>\n",
       "      <th></th>\n",
       "      <th></th>\n",
       "      <th></th>\n",
       "    </tr>\n",
       "  </thead>\n",
       "  <tbody>\n",
       "    <tr>\n",
       "      <th>1</th>\n",
       "      <td>0.00</td>\n",
       "      <td>11</td>\n",
       "      <td>Rondônia</td>\n",
       "      <td>2025-01-01 00:00:00+00:00</td>\n",
       "      <td>Casa popular, 1 pavimento, varanda, sala, 2 quartos, circulação, banheiro e...</td>\n",
       "      <td>Alto</td>\n",
       "    </tr>\n",
       "    <tr>\n",
       "      <th>2</th>\n",
       "      <td>2009.92</td>\n",
       "      <td>11</td>\n",
       "      <td>Rondônia</td>\n",
       "      <td>2025-01-01 00:00:00+00:00</td>\n",
       "      <td>Casa popular, 1 pavimento, varanda, sala, 2 quartos, circulação, banheiro e...</td>\n",
       "      <td>Normal</td>\n",
       "    </tr>\n",
       "    <tr>\n",
       "      <th>3</th>\n",
       "      <td>1413.30</td>\n",
       "      <td>11</td>\n",
       "      <td>Rondônia</td>\n",
       "      <td>2025-01-01 00:00:00+00:00</td>\n",
       "      <td>Casa popular, 1 pavimento, varanda, sala, 2 quartos, circulação, banheiro e...</td>\n",
       "      <td>Baixo</td>\n",
       "    </tr>\n",
       "    <tr>\n",
       "      <th>4</th>\n",
       "      <td>1215.72</td>\n",
       "      <td>11</td>\n",
       "      <td>Rondônia</td>\n",
       "      <td>2025-01-01 00:00:00+00:00</td>\n",
       "      <td>Casa popular, 1 pavimento, varanda, sala, 2 quartos, circulação, banheiro e...</td>\n",
       "      <td>Mínimo</td>\n",
       "    </tr>\n",
       "    <tr>\n",
       "      <th>5</th>\n",
       "      <td>0.00</td>\n",
       "      <td>11</td>\n",
       "      <td>Rondônia</td>\n",
       "      <td>2025-01-01 00:00:00+00:00</td>\n",
       "      <td>Casa popular, 1 pavimento, sala, 2 quartos, circulação, banheiro e cozinha</td>\n",
       "      <td>Alto</td>\n",
       "    </tr>\n",
       "    <tr>\n",
       "      <th>...</th>\n",
       "      <td>...</td>\n",
       "      <td>...</td>\n",
       "      <td>...</td>\n",
       "      <td>...</td>\n",
       "      <td>...</td>\n",
       "      <td>...</td>\n",
       "    </tr>\n",
       "    <tr>\n",
       "      <th>16844</th>\n",
       "      <td>1100.61</td>\n",
       "      <td>53</td>\n",
       "      <td>Distrito Federal</td>\n",
       "      <td>2025-04-01 00:00:00+00:00</td>\n",
       "      <td>Projeto-tipo cesta básica, materiais e mão-de-obra, sala, quarto, circulaçã...</td>\n",
       "      <td>Mínimo</td>\n",
       "    </tr>\n",
       "    <tr>\n",
       "      <th>16845</th>\n",
       "      <td>0.00</td>\n",
       "      <td>53</td>\n",
       "      <td>Distrito Federal</td>\n",
       "      <td>2025-04-01 00:00:00+00:00</td>\n",
       "      <td>Projeto-tipo cesta básica, materiais e mão-de-obra, sala, circulação, banhe...</td>\n",
       "      <td>Alto</td>\n",
       "    </tr>\n",
       "    <tr>\n",
       "      <th>16846</th>\n",
       "      <td>0.00</td>\n",
       "      <td>53</td>\n",
       "      <td>Distrito Federal</td>\n",
       "      <td>2025-04-01 00:00:00+00:00</td>\n",
       "      <td>Projeto-tipo cesta básica, materiais e mão-de-obra, sala, circulação, banhe...</td>\n",
       "      <td>Normal</td>\n",
       "    </tr>\n",
       "    <tr>\n",
       "      <th>16847</th>\n",
       "      <td>0.00</td>\n",
       "      <td>53</td>\n",
       "      <td>Distrito Federal</td>\n",
       "      <td>2025-04-01 00:00:00+00:00</td>\n",
       "      <td>Projeto-tipo cesta básica, materiais e mão-de-obra, sala, circulação, banhe...</td>\n",
       "      <td>Baixo</td>\n",
       "    </tr>\n",
       "    <tr>\n",
       "      <th>16848</th>\n",
       "      <td>1257.95</td>\n",
       "      <td>53</td>\n",
       "      <td>Distrito Federal</td>\n",
       "      <td>2025-04-01 00:00:00+00:00</td>\n",
       "      <td>Projeto-tipo cesta básica, materiais e mão-de-obra, sala, circulação, banhe...</td>\n",
       "      <td>Mínimo</td>\n",
       "    </tr>\n",
       "  </tbody>\n",
       "</table>\n",
       "<p>16848 rows × 6 columns</p>\n",
       "</div>"
      ],
      "text/plain": [
       "         valor  unidade_da_federacao_codigo unidade_da_federacao  \\\n",
       "index                                                              \n",
       "1         0.00                           11             Rondônia   \n",
       "2      2009.92                           11             Rondônia   \n",
       "3      1413.30                           11             Rondônia   \n",
       "4      1215.72                           11             Rondônia   \n",
       "5         0.00                           11             Rondônia   \n",
       "...        ...                          ...                  ...   \n",
       "16844  1100.61                           53     Distrito Federal   \n",
       "16845     0.00                           53     Distrito Federal   \n",
       "16846     0.00                           53     Distrito Federal   \n",
       "16847     0.00                           53     Distrito Federal   \n",
       "16848  1257.95                           53     Distrito Federal   \n",
       "\n",
       "                         periodo  \\\n",
       "index                              \n",
       "1      2025-01-01 00:00:00+00:00   \n",
       "2      2025-01-01 00:00:00+00:00   \n",
       "3      2025-01-01 00:00:00+00:00   \n",
       "4      2025-01-01 00:00:00+00:00   \n",
       "5      2025-01-01 00:00:00+00:00   \n",
       "...                          ...   \n",
       "16844  2025-04-01 00:00:00+00:00   \n",
       "16845  2025-04-01 00:00:00+00:00   \n",
       "16846  2025-04-01 00:00:00+00:00   \n",
       "16847  2025-04-01 00:00:00+00:00   \n",
       "16848  2025-04-01 00:00:00+00:00   \n",
       "\n",
       "                                                                       tipo_de_projeto  \\\n",
       "index                                                                                    \n",
       "1       Casa popular, 1 pavimento, varanda, sala, 2 quartos, circulação, banheiro e...   \n",
       "2       Casa popular, 1 pavimento, varanda, sala, 2 quartos, circulação, banheiro e...   \n",
       "3       Casa popular, 1 pavimento, varanda, sala, 2 quartos, circulação, banheiro e...   \n",
       "4       Casa popular, 1 pavimento, varanda, sala, 2 quartos, circulação, banheiro e...   \n",
       "5           Casa popular, 1 pavimento, sala, 2 quartos, circulação, banheiro e cozinha   \n",
       "...                                                                                ...   \n",
       "16844   Projeto-tipo cesta básica, materiais e mão-de-obra, sala, quarto, circulaçã...   \n",
       "16845   Projeto-tipo cesta básica, materiais e mão-de-obra, sala, circulação, banhe...   \n",
       "16846   Projeto-tipo cesta básica, materiais e mão-de-obra, sala, circulação, banhe...   \n",
       "16847   Projeto-tipo cesta básica, materiais e mão-de-obra, sala, circulação, banhe...   \n",
       "16848   Projeto-tipo cesta básica, materiais e mão-de-obra, sala, circulação, banhe...   \n",
       "\n",
       "      padrao_de_acabamento  \n",
       "index                       \n",
       "1                     Alto  \n",
       "2                   Normal  \n",
       "3                    Baixo  \n",
       "4                   Mínimo  \n",
       "5                     Alto  \n",
       "...                    ...  \n",
       "16844               Mínimo  \n",
       "16845                 Alto  \n",
       "16846               Normal  \n",
       "16847                Baixo  \n",
       "16848               Mínimo  \n",
       "\n",
       "[16848 rows x 6 columns]"
      ]
     },
     "execution_count": 5,
     "metadata": {},
     "output_type": "execute_result"
    }
   ],
   "source": [
    "import pandas as pd\n",
    "import matplotlib.pyplot as plt\n",
    "import seaborn as sns\n",
    "\n",
    "dataframe = pd.read_csv(r'../data/processed/sinapi.csv', index_col='index')\n",
    "pd.options.display.max_columns = 14\n",
    "pd.options.display.max_rows = 20\n",
    "pd.options.display.max_colwidth = 80\n",
    "dataframe.info()\n",
    "df = dataframe.copy()\n",
    "df"
   ]
  }
 ],
 "metadata": {
  "kernelspec": {
   "display_name": ".venv (3.12.3)",
   "language": "python",
   "name": "python3"
  },
  "language_info": {
   "codemirror_mode": {
    "name": "ipython",
    "version": 3
   },
   "file_extension": ".py",
   "mimetype": "text/x-python",
   "name": "python",
   "nbconvert_exporter": "python",
   "pygments_lexer": "ipython3",
   "version": "3.12.3"
  }
 },
 "nbformat": 4,
 "nbformat_minor": 5
}
